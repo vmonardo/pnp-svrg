{
 "cells": [
  {
   "cell_type": "code",
   "execution_count": null,
   "metadata": {},
   "outputs": [],
   "source": [
    "import numpy as np\n",
    "import math\n",
    "from scipy.linalg import dft "
   ]
  },
  {
   "cell_type": "code",
   "execution_count": 1,
   "metadata": {},
   "outputs": [],
   "source": [
    "# # test grad and stoch grad speed\n",
    "# import numpy as np\n",
    "# import matplotlib.pyplot as plt\n",
    "# from os.path import dirname, abspath\n",
    "# import os\n",
    "# import matplotlib.pyplot as plt\n",
    "# from PIL import Image\n",
    "# import time\n",
    "\n",
    "# from skimage import data, img_as_float\n",
    "# from skimage.restoration import denoise_nl_means, estimate_sigma\n",
    "# from skimage.metrics import peak_signal_noise_ratio\n",
    "# from skimage.util import random_noise\n",
    "\n",
    "\n",
    "# X = np.random.rand(256,256)\n",
    "# Y = np.random.rand(256,256)\n",
    "# mmask = np.ones((256,256))\n",
    "# ind = np.zeros((256,256))\n",
    "# ind[50,50] = 1\n",
    "# ind[10,20] = 1\n",
    "# ind[10,30] = 1\n",
    "# ind[10,40] = 1\n",
    "\n",
    "# start_full = time.time()\n",
    "# full_grad(X, mmask, Y)\n",
    "# stop_full = time.time()\n",
    "\n",
    "# start_stoch = time.time()\n",
    "# stoch_grad(X, ind, Y)\n",
    "# stop_stoch = time.time()\n",
    "\n",
    "# print('full', stop_full-start_full)\n",
    "# print('stoch', stop_stoch-start_stoch)"
   ]
  },
  {
   "cell_type": "code",
   "execution_count": 2,
   "metadata": {},
   "outputs": [],
   "source": [
    "def full_grad(z, MASK, meas):\n",
    "    # Input: \n",
    "    # z, optimization iterate\n",
    "    # MASK, observed fourier measurements\n",
    "    # meas, measurements = F(X) + w\n",
    "    # Output:\n",
    "    # Full gradient at z\n",
    "\n",
    "    # real grad\n",
    "    H, W = z.shape[:2]\n",
    "    res = np.fft.fft2(z) * MASK\n",
    "    index = np.nonzero(MASK)\n",
    "    res[index] = res[index] - meas[index]\n",
    "    return np.real(np.fft.ifft2(res))"
   ]
  },
  {
   "cell_type": "code",
   "execution_count": 3,
   "metadata": {},
   "outputs": [],
   "source": [
    "def stoch_grad(z, IND, meas):\n",
    "    # Input:\n",
    "    # z, optimization iterate\n",
    "    # meas, measurements = F(X) + w\n",
    "    # batch_index, indices to update\n",
    "    # Output:\n",
    "    # stochastic gradient at z for measurements in B\n",
    "    H, W = z.shape[:2]\n",
    "    # batch gradient update\n",
    "    res = IND * (np.fft.fft2(z) - meas)\n",
    "    return np.real(np.fft.ifft2(res)) "
   ]
  },
  {
   "cell_type": "code",
   "execution_count": 4,
   "metadata": {},
   "outputs": [],
   "source": [
    "def get_batch(B, H, W, nnz_list):\n",
    "    tmp = np.random.permutation(nnz_list)\n",
    "    k = tmp[0:B][:]\n",
    "    batch = np.zeros([H,W])\n",
    "    batch[k[:,0], k[:,1]] = 1\n",
    "\n",
    "    # find nonzero batch indices\n",
    "    return batch\n",
    "\n",
    "    # Input:\n",
    "    # B, batch size\n",
    "    # H, image height\n",
    "    # W, image width\n",
    "    # N, list of indices\n",
    "    # Output:\n",
    "    # batch indices\n",
    "\n",
    "    #Generate random indices"
   ]
  },
  {
   "cell_type": "code",
   "execution_count": null,
   "metadata": {},
   "outputs": [],
   "source": []
  },
  {
   "cell_type": "code",
   "execution_count": null,
   "metadata": {},
   "outputs": [],
   "source": []
  }
 ],
 "metadata": {
  "kernelspec": {
   "display_name": "Python 3",
   "language": "python",
   "name": "python3"
  },
  "language_info": {
   "codemirror_mode": {
    "name": "ipython",
    "version": 3
   },
   "file_extension": ".py",
   "mimetype": "text/x-python",
   "name": "python",
   "nbconvert_exporter": "python",
   "pygments_lexer": "ipython3",
   "version": "3.8.3"
  }
 },
 "nbformat": 4,
 "nbformat_minor": 2
}
