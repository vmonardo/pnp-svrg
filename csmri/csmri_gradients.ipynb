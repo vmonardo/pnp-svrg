{
 "cells": [
  {
   "cell_type": "code",
   "execution_count": 1,
   "metadata": {},
   "outputs": [],
   "source": [
    "import numpy as np\n",
    "import math\n",
    "from scipy.linalg import dft "
   ]
  },
  {
   "cell_type": "markdown",
   "metadata": {},
   "source": [
    "# Compute a full gradient"
   ]
  },
  {
   "cell_type": "code",
   "execution_count": 2,
   "metadata": {},
   "outputs": [],
   "source": [
    "def full_grad(z, MASK, meas):\n",
    "    # Input: \n",
    "    # z, optimization iterate\n",
    "    # MASK, observed fourier measurements\n",
    "    # meas, measurements = F(X) + w\n",
    "    # Output:\n",
    "    # Full gradient at z\n",
    "\n",
    "    # real grad\n",
    "    res = np.fft.fft2(z) * MASK\n",
    "    index = np.nonzero(MASK)\n",
    "    res[index] = res[index] - meas[index]\n",
    "    return np.fft.ifft2(res)"
   ]
  },
  {
   "cell_type": "markdown",
   "metadata": {},
   "source": [
    "# Compute a stochastic gradient"
   ]
  },
  {
   "cell_type": "code",
   "execution_count": 1,
   "metadata": {},
   "outputs": [],
   "source": [
    "def stoch_grad(z, MASK, meas, ind):\n",
    "    # Input:\n",
    "    # z, optimization iterate\n",
    "    # meas, measurements = F(X) + w\n",
    "    # batch_index, indices to update\n",
    "    # Output:\n",
    "    # stochastic gradient at z for measurements in B\n",
    "\n",
    "    # batch gradient update\n",
    "    tmp = np.zeros(z.shape[:2]).astype(float)\n",
    "    res = np.fft.fft2(z) * MASK\n",
    "    index = np.nonzero(MASK)\n",
    "    res[index] = res[index] - meas[index]\n",
    "    tmp = ind*res\n",
    "    return np.fft.ifft2(tmp)"
   ]
  },
  {
   "cell_type": "markdown",
   "metadata": {},
   "source": [
    "# Get a batch of measurements to run stochastic gradients"
   ]
  },
  {
   "cell_type": "code",
   "execution_count": 4,
   "metadata": {},
   "outputs": [],
   "source": [
    "def get_batch(B, H, W, N):\n",
    "    # Input:\n",
    "    # B, batch size\n",
    "    # H, image height\n",
    "    # W, image width\n",
    "    # N, list of indices\n",
    "    # Output:\n",
    "    # batch indices\n",
    "\n",
    "    #Generate random indices\n",
    "    tmp = np.random.permutation(N)\n",
    "    k = tmp[0:B][:]\n",
    "    batch = np.zeros([H,W])\n",
    "    batch[k[:,0], k[:,1]] = 1\n",
    "\n",
    "    # find nonzero batch indices\n",
    "    return batch"
   ]
  }
 ],
 "metadata": {
  "kernelspec": {
   "display_name": "Python 3",
   "language": "python",
   "name": "python3"
  },
  "language_info": {
   "codemirror_mode": {
    "name": "ipython",
    "version": 3
   },
   "file_extension": ".py",
   "mimetype": "text/x-python",
   "name": "python",
   "nbconvert_exporter": "python",
   "pygments_lexer": "ipython3",
   "version": "3.7.2"
  }
 },
 "nbformat": 4,
 "nbformat_minor": 2
}
