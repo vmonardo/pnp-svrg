{
 "cells": [
  {
   "cell_type": "code",
   "execution_count": 1,
   "metadata": {},
   "outputs": [],
   "source": [
    "import numpy as np\n",
    "import math\n",
    "from scipy.linalg import dft "
   ]
  },
  {
   "cell_type": "code",
   "execution_count": 107,
   "metadata": {},
   "outputs": [],
   "source": [
    "def full_grad(z, MASK, meas):\n",
    "    # Input: \n",
    "    # z, optimization iterate\n",
    "    # MASK, observed fourier measurements\n",
    "    # meas, measurements = F(X) + w\n",
    "    # Output:\n",
    "    # Full gradient at z\n",
    "\n",
    "    # real grad\n",
    "    H, W = z.shape[:2]\n",
    "    res = np.fft.fft2(z) * MASK\n",
    "    index = np.nonzero(MASK)\n",
    "    res[index] = res[index] - meas[index]\n",
    "    return np.real(np.fft.ifft2(res))"
   ]
  },
  {
   "cell_type": "code",
   "execution_count": 108,
   "metadata": {},
   "outputs": [],
   "source": [
    "def stoch_grad(z, IND, meas):\n",
    "    # Input:\n",
    "    # z, optimization iterate\n",
    "    # meas, measurements = F(X) + w\n",
    "    # batch_index, indices to update\n",
    "    # Output:\n",
    "    # stochastic gradient at z for measurements in B\n",
    "    H, W = z.shape[:2]\n",
    "    # batch gradient update\n",
    "    res = IND * (np.fft.fft2(z) - meas)\n",
    "    return np.real(np.fft.ifft2(res))"
   ]
  },
  {
   "cell_type": "code",
   "execution_count": 109,
   "metadata": {},
   "outputs": [],
   "source": [
    "def get_batch(B, MASK):\n",
    "    H, W = MASK.shape[:2]\n",
    "    batch = np.zeros((1,H*W))\n",
    "    tmp = np.linspace(0, H*W - 1, H*W)\n",
    "    one_locs = tmp[np.matrix.flatten(MASK) == 1].astype(int)\n",
    "    batch_locs = np.random.choice(one_locs, B, replace=False)\n",
    "    batch[0, batch_locs] = 1\n",
    "\n",
    "    # find nonzero batch indices\n",
    "    return batch.reshape(H,W).astype(int)\n",
    "\n",
    "    # Input:\n",
    "    # B, batch size\n",
    "    # H, image height\n",
    "    # W, image width\n",
    "    # N, list of indices\n",
    "    # Output:\n",
    "    # batch indices\n",
    "\n",
    "    #Generate random indices"
   ]
  },
  {
   "cell_type": "code",
   "execution_count": 110,
   "metadata": {},
   "outputs": [],
   "source": [
    "def test_get_batch():\n",
    "    batch_size = 4\n",
    "    mask = np.random.choice([0, 1], size=(8,8), p=[1 - .5, .5])\t# generate random mask\n",
    "    print(np.count_nonzero(mask))\n",
    "    batch_mask = get_batch(batch_size, mask)\n",
    "    print(mask, batch_mask)"
   ]
  },
  {
   "cell_type": "code",
   "execution_count": 112,
   "metadata": {},
   "outputs": [],
   "source": [
    "def test_grads():\n",
    "    X = np.random.randn(32, 32)\n",
    "    Y = np.random.randn(32, 32)\n",
    "    \n",
    "    batchsize = 4\n",
    "    prob = .5\n",
    "    ## Make measurements\n",
    "    mask = np.random.choice([0, 1], size=(32,32), p=[1 - prob, prob])\t# generate random mask  \n",
    "    \n",
    "    ind = get_batch(np.count_nonzero(mask), mask)\n",
    "    ind1 = get_batch(batchsize, mask)\n",
    "    \n",
    "    full = full_grad(X, mask, Y)\n",
    "    stoch_full = stoch_grad(X, ind, Y)\n",
    "    print(full, stoch_full)"
   ]
  },
  {
   "cell_type": "code",
   "execution_count": null,
   "metadata": {},
   "outputs": [],
   "source": []
  }
 ],
 "metadata": {
  "kernelspec": {
   "display_name": "Python 3",
   "language": "python",
   "name": "python3"
  },
  "language_info": {
   "codemirror_mode": {
    "name": "ipython",
    "version": 3
   },
   "file_extension": ".py",
   "mimetype": "text/x-python",
   "name": "python",
   "nbconvert_exporter": "python",
   "pygments_lexer": "ipython3",
   "version": "3.8.3"
  }
 },
 "nbformat": 4,
 "nbformat_minor": 2
}
