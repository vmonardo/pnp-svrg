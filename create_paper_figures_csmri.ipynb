{
 "cells": [
  {
   "cell_type": "markdown",
   "source": [
    "## Create the figures used in Stochastic Variance Reduced Gradient Plug-and-Play Methods for Solving Image Reconnstruction Problems (ICIP 2021)"
   ],
   "metadata": {}
  },
  {
   "cell_type": "code",
   "execution_count": null,
   "source": [
    "%matplotlib inline \r\n",
    "\r\n",
    "# from imports import *\r\n",
    "import torch\r\n",
    "import matplotlib.pyplot as plt\r\n",
    "import numpy as np\r\n",
    "from algorithms import *\r\n",
    "from Utilities import display_results\r\n",
    "import sys\r\n",
    "sys.path.append('problems/')\r\n",
    "sys.path.append('denoisers/')\r\n",
    "\r\n",
    "device = 'cuda' if torch.cuda.is_available() else 'cpu'\r\n",
    "print(device)"
   ],
   "outputs": [],
   "metadata": {}
  },
  {
   "cell_type": "markdown",
   "source": [
    "# Figures 1: Compare Image Fidelity for Different Algorithms "
   ],
   "metadata": {}
  },
  {
   "cell_type": "code",
   "execution_count": null,
   "source": [
    "from problems.CSMRI import CSMRI\r\n",
    "\r\n",
    "im_height, im_width = 256, 256  # Image dimensions\r\n",
    "samp_rate = 0.5                 # Pick a number 0 < SR <= 1\r\n",
    "sigma_true = 5.0                # Select std dev of AWGN\r\n",
    "\r\n",
    "main_problem = CSMRI('./data/13.png', H=im_height, W=im_width, sample_prob=samp_rate, sigma=sigma_true)"
   ],
   "outputs": [],
   "metadata": {}
  },
  {
   "cell_type": "code",
   "execution_count": null,
   "source": [
    "main_problem.display(show_measurements=False, save_results=True)"
   ],
   "outputs": [],
   "metadata": {}
  },
  {
   "cell_type": "code",
   "execution_count": null,
   "source": [
    "from denoisers.BM3D import BM3DDenoiser\r\n",
    "denoiser = BM3DDenoiser(sigma_est=.01)\r\n",
    "results = pnp_svrg(main_problem, denoiser=denoiser, eta=1e-2, tt=10, T2=10, mini_batch_size=1, verbose=True)"
   ],
   "outputs": [],
   "metadata": {
    "scrolled": true,
    "tags": [
     "outputPrepend"
    ]
   }
  },
  {
   "cell_type": "code",
   "execution_count": null,
   "source": [
    "master_psnr_fig = display_results(main_problem, results, save_results=True)"
   ],
   "outputs": [],
   "metadata": {}
  },
  {
   "cell_type": "code",
   "execution_count": null,
   "source": [
    "np.random.seed(0)\r\n",
    "denoiser = NLMDenoiser()\r\n",
    "z_SARAH_1, time_SARAH_1, psnr_SARAH_1, zs_SARAH = pnp_sarah(main_problem, denoiser=denoiser, eta=2500, tt=200, T2=20, mini_batch_size=2000, verbose=True)"
   ],
   "outputs": [],
   "metadata": {}
  },
  {
   "cell_type": "code",
   "execution_count": null,
   "source": [
    "np.random.seed(0)\r\n",
    "denoiser = NLMDenoiser()\r\n",
    "z_GD_1, time_GD_1, psnr_GD_1, zs_GD = pnp_gd(main_problem, denoiser=denoiser, eta=2000, tt=200, verbose=True)"
   ],
   "outputs": [],
   "metadata": {
    "scrolled": true,
    "tags": [
     "outputPrepend"
    ]
   }
  },
  {
   "cell_type": "code",
   "execution_count": null,
   "source": [
    "np.random.seed(0)\r\n",
    "denoiser = NLMDenoiser()\r\n",
    "z_SGD_1, time_SGD_1, psnr_SGD_1, zs_SGD = pnp_sgd(main_problem, denoiser=denoiser, eta=1000, tt=200, mini_batch_size=2000, verbose=True)"
   ],
   "outputs": [],
   "metadata": {
    "scrolled": true,
    "tags": [
     "outputPrepend"
    ]
   }
  },
  {
   "cell_type": "code",
   "execution_count": null,
   "source": [
    "np.random.seed(0)\r\n",
    "denoiser = CNNDenoiser(device=device, cnn_decay=0.96)\r\n",
    "z_SVRG_2, time_SVRG_2, psnr_SVRG_2, zs_SVRG = pnp_svrg(main_problem, denoiser=denoiser, eta=12500, tt=30, T2=5, mini_batch_size=2000, verbose=True)"
   ],
   "outputs": [],
   "metadata": {
    "scrolled": true
   }
  },
  {
   "cell_type": "code",
   "execution_count": null,
   "source": [
    "np.random.seed(0)\r\n",
    "denoiser = CNNDenoiser(device=device, cnn_decay=0.96)\r\n",
    "z_GD_2, time_GD_2, psnr_GD_2, zs_GD = pnp_gd(main_problem, denoiser=denoiser, eta=10000, tt=30, verbose=True)"
   ],
   "outputs": [],
   "metadata": {
    "scrolled": true
   }
  },
  {
   "cell_type": "code",
   "execution_count": null,
   "source": [
    "np.random.seed(0)\r\n",
    "denoiser = CNNDenoiser(device=device, cnn_decay=0.95)\r\n",
    "z_SGD_2, time_SGD_2, psnr_SGD_2, zs_SGD = pnp_sgd(main_problem, denoiser=denoiser, eta=4000, tt=30, mini_batch_size=2000, verbose=True)"
   ],
   "outputs": [],
   "metadata": {
    "scrolled": true
   }
  },
  {
   "cell_type": "markdown",
   "source": [
    "# Figure 2(a): Compare PSNR over time using NLM"
   ],
   "metadata": {}
  },
  {
   "cell_type": "markdown",
   "source": [
    "## Figure 2(b): Compare Sampling Ratio for each PnP Algorithm"
   ],
   "metadata": {}
  },
  {
   "cell_type": "markdown",
   "source": [
    "## Figure 3: Compare Image Denoising Routines with PnP-SVRG using RGB Images"
   ],
   "metadata": {}
  }
 ],
 "metadata": {
  "kernelspec": {
   "name": "python3",
   "display_name": "Python 3.9.0 64-bit ('.venv': venv)"
  },
  "language_info": {
   "codemirror_mode": {
    "name": "ipython",
    "version": 3
   },
   "file_extension": ".py",
   "mimetype": "text/x-python",
   "name": "python",
   "nbconvert_exporter": "python",
   "pygments_lexer": "ipython3",
   "version": "3.9.0"
  },
  "interpreter": {
   "hash": "10aa4e715dfef52cba0911b3ce35e201598ef3e73c84be42f64078ad70f40c87"
  }
 },
 "nbformat": 4,
 "nbformat_minor": 4
}