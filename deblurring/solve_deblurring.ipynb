{
 "cells": [
  {
   "cell_type": "markdown",
   "metadata": {},
   "source": [
    "# Code to Solve the Image Deblurring Problem\n",
    "\n",
    "## Problem formulation\n",
    "\n",
    "$\\boldsymbol{y} = \\boldsymbol{S} \\left( \\boldsymbol{b} \\circledast \\boldsymbol{x} + \\boldsymbol{\\varepsilon} \\right) = \\boldsymbol{S} \\left( \\mathcal{C} (\\boldsymbol{b})\\boldsymbol{x} + \\boldsymbol{\\varepsilon} \\right), \\hspace{2ex} \\boldsymbol{\\varepsilon} \\sim \\mathcal{N} (0, \\sigma^2 \\boldsymbol{I}), \\hspace{2ex} \\sigma \\geq 0.$\n",
    "\n",
    "- $\\boldsymbol{x} \\in \\mathbb{R}^{n}$: (vectorized) unknown image to recover \n",
    "- $\\boldsymbol{b} \\in \\mathbb{R}^{n}$: (vectorized) blurring kernel\n",
    "- $\\mathcal{C}(\\boldsymbol{b})$ : circulant matrix of $\\boldsymbol{b}$\n",
    "- $\\boldsymbol{\\varepsilon} \\in \\mathbb{R}^{m}$: noise\n",
    "- $ \\sigma \\in \\mathbb{R}^+$: noise level \n",
    "- $ \\boldsymbol{y} \\in \\mathbb{R}^{n}$: observed measurements\n",
    "- $ \\circledast : \\mathbb{R}^{n} \\times \\mathbb{R}^{n} \\mapsto \\mathbb{R}^{n}$: denotes cicular convolution (https://en.wikipedia.org/wiki/Convolution)\n",
    "- $ \\boldsymbol{S} \\in \\mathbb{R}^{m} \\times \\mathbb{R}^{n}$: subsampling matrix\n",
    "\n",
    "## Loss function, gradients\n",
    "\n",
    "### Loss function:\n",
    "\n",
    "$\\ell ({\\boldsymbol{x}}) = \\frac{1}{2m} \\| \\boldsymbol{y} - \\boldsymbol{S} \\mathcal{C} (\\boldsymbol{b})\\boldsymbol{x} \\|_2^2$\n",
    "\n",
    "### Loss function as a finite sum:\n",
    "\n",
    "$\\ell (\\boldsymbol{x}) := \\frac{1}{m} \\sum_i^m \\ell_{i}(\\boldsymbol{x}) = \\frac{1}{m}\\sum_i^m \\frac{1}{2}(y_i - \\mathcal{C}_i(\\boldsymbol{b}) \\boldsymbol{x})^2$\n",
    "\n",
    "- $\\mathcal{C}_i(\\boldsymbol{b})$ denotes the $i^{\\text{th}}$ row of the circulant matrix of $\\boldsymbol{b}$\n",
    "\n",
    "### Full gradient:\n",
    "\n",
    "$\\nabla \\ell ({\\boldsymbol{x}}) = \\frac{1}{m} \\boldsymbol{S}^\\top \\mathcal{C} (\\boldsymbol{b})^\\top ( \\boldsymbol{S} \\mathcal{C} (\\boldsymbol{b}) \\boldsymbol{x} - \\boldsymbol{y} ) $\n",
    "\n",
    "### Stochastic gradient:\n",
    "\n",
    "$\\nabla \\ell_{i}({\\boldsymbol{x}}) = \\boldsymbol{S}^\\top_i \\mathcal{C} (\\boldsymbol{b})^\\top_i (\\boldsymbol{x}^\\top \\mathcal{C}_i(\\boldsymbol{b}) - y_i ) $\n"
   ]
  },
  {
   "cell_type": "code",
   "execution_count": 1,
   "metadata": {},
   "outputs": [
    {
     "name": "stdout",
     "output_type": "stream",
     "text": [
      "(2048, 4096)\n",
      "(2048,)\n",
      "(2048,)\n",
      "(2048,)\n",
      "[-2.14277179e-06 -2.54106590e-06 -2.60645879e-06 ...  3.82724465e-07\n",
      " -4.27212399e-07 -1.44288242e-06]\n",
      "[-2.14277179e-06 -2.54106590e-06 -2.60645879e-06 ...  3.82724465e-07\n",
      " -4.27212399e-07 -1.44288242e-06]\n",
      "[0. 0. 0. ... 0. 0. 0.] [1. 1. 1. 1. 1. 1. 1. 1. 1. 1.]\n"
     ]
    }
   ],
   "source": [
    "from ipynb.fs.full.deblurring_gradients import full_grad , stoch_grad, get_batch"
   ]
  },
  {
   "cell_type": "code",
   "execution_count": 2,
   "metadata": {},
   "outputs": [],
   "source": [
    "%matplotlib inline"
   ]
  },
  {
   "cell_type": "code",
   "execution_count": 3,
   "metadata": {},
   "outputs": [],
   "source": [
    "import numpy as np\n",
    "import matplotlib.pyplot as plt\n",
    "from os.path import dirname, abspath\n",
    "import os\n",
    "import matplotlib.pyplot as plt\n",
    "from PIL import Image\n",
    "import time\n",
    "\n",
    "from skimage import data, img_as_float\n",
    "from skimage.restoration import denoise_nl_means, estimate_sigma\n",
    "from skimage.metrics import peak_signal_noise_ratio\n",
    "from skimage.util import random_noise\n",
    "\n",
    "from scipy.linalg import circulant"
   ]
  },
  {
   "cell_type": "code",
   "execution_count": 4,
   "metadata": {},
   "outputs": [],
   "source": [
    "np.random.seed(0)\n",
    "\n",
    "## Set paths\n",
    "data_path=\"../data/Set12/\"\n",
    "save_path=\"./figures/\"\n",
    "blur_path=\"./\"\n",
    "image_list = sorted(os.listdir(data_path))\n",
    "blur_list = sorted(os.listdir(blur_path))\n",
    "\n",
    "# set image and blurring kernel size\n",
    "H = 64\n",
    "W = 64\n",
    "\n",
    "## Read test image\n",
    "# normalize image pixels in range [0,1]\n",
    "# orig = np.array(Image.open(data_path + image_list[8])) / 225.0\n",
    "ORIG = Image.open(data_path + image_list[7]).resize((H,W))\n",
    "ORIG = np.array(ORIG) / 255.0\n",
    "mintmp = np.min(ORIG)\n",
    "maxtmp = np.max(ORIG)\n",
    "ORIG = (ORIG - mintmp) / (maxtmp - mintmp)\n",
    "\n",
    "## Read blurring kernel\n",
    "blur = Image.open(blur_path + blur_list[2]).resize((H,W))"
   ]
  },
  {
   "cell_type": "code",
   "execution_count": 5,
   "metadata": {},
   "outputs": [
    {
     "data": {
      "text/plain": [
       "(-0.5, 63.5, 63.5, -0.5)"
      ]
     },
     "execution_count": 5,
     "metadata": {},
     "output_type": "execute_result"
    },
    {
     "data": {
      "image/png": "[encoded data removed]",
      "text/plain": [
       "<Figure size 432x288 with 1 Axes>"
      ]
     },
     "metadata": {
      "needs_background": "light"
     },
     "output_type": "display_data"
    }
   ],
   "source": [
    "orig_fig = plt.figure()\n",
    "ax = orig_fig.add_subplot(1, 1, 1)\n",
    "orig_plot = plt.imshow(ORIG, cmap='gray', vmin=0, vmax=1)\n",
    "ax.set_title('Original Image')\n",
    "ax.axis('off')"
   ]
  },
  {
   "cell_type": "code",
   "execution_count": 6,
   "metadata": {},
   "outputs": [
    {
     "data": {
      "text/plain": [
       "(-0.5, 63.5, 63.5, -0.5)"
      ]
     },
     "execution_count": 6,
     "metadata": {},
     "output_type": "execute_result"
    },
    {
     "data": {
      "image/png": "[encoded data removed]",
      "text/plain": [
       "<Figure size 432x288 with 1 Axes>"
      ]
     },
     "metadata": {
      "needs_background": "light"
     },
     "output_type": "display_data"
    }
   ],
   "source": [
    "blur_fig = plt.figure()\n",
    "ax = blur_fig.add_subplot(1, 1, 1)\n",
    "blur_plot = plt.imshow(blur, cmap='gray')\n",
    "ax.set_title('Blurring Kernel')\n",
    "ax.axis('off')"
   ]
  },
  {
   "cell_type": "code",
   "execution_count": 7,
   "metadata": {},
   "outputs": [],
   "source": [
    "## Set signal model parameters\n",
    "H, W = ORIG.shape[:2] \t\t\t\t# height and width of orig image\n",
    "N = H*W \t\t\t\t\t\t\t# image dimension\n",
    "sigma = 100\t\t\t\t\t\t\t# noise level of measurements\n",
    "\n",
    "## Create noise\n",
    "noises = np.random.normal(0, sigma, (N,))\n",
    "\n",
    "## Create cirulant matrix\n",
    "vb = np.matrix.flatten(np.asarray(blur)) # flatten blurring kernel into a vector\n",
    "Cb = circulant(vb) # create circulant matrix of v_b\n",
    "Cb_inv = np.linalg.inv(Cb)\n",
    "\n",
    "## Vectorize orig image\n",
    "vorig = np.matrix.flatten(np.asarray(ORIG))"
   ]
  },
  {
   "cell_type": "markdown",
   "metadata": {},
   "source": [
    "# Test problem without subsampling for sanity checking of problem formulation\n",
    "\n",
    "Expected results: no noise --> perfect recovery"
   ]
  },
  {
   "cell_type": "code",
   "execution_count": 8,
   "metadata": {},
   "outputs": [
    {
     "name": "stdout",
     "output_type": "stream",
     "text": [
      "[ 2.22715180e-11 -2.55683918e-10  2.07485140e-10 ...  1.41038431e-11\n",
      "  2.95360958e-12 -2.18412510e-11]\n"
     ]
    },
    {
     "data": {
      "image/png": "[encoded data removed]",
      "text/plain": [
       "<Figure size 432x288 with 1 Axes>"
      ]
     },
     "metadata": {
      "needs_background": "light"
     },
     "output_type": "display_data"
    },
    {
     "data": {
      "image/png": "[encoded data removed]",
      "text/plain": [
       "<Figure size 432x288 with 1 Axes>"
      ]
     },
     "metadata": {
      "needs_background": "light"
     },
     "output_type": "display_data"
    }
   ],
   "source": [
    "## Create measurements\n",
    "y = np.matmul(Cb, vorig)\n",
    "\n",
    "# Visualize blurry measurements\n",
    "mintmp = np.min(y)\n",
    "maxtmp = np.max(y)\n",
    "y_v = (y - mintmp) / (maxtmp - mintmp)\n",
    "\n",
    "blurred_fig = plt.figure()\n",
    "ax = blurred_fig.add_subplot(1, 1, 1)\n",
    "blurred_plot = plt.imshow(y_v.reshape((H,W)), cmap='gray', vmin=0, vmax=1)\n",
    "ax.set_title('Measurements')\n",
    "ax.axis('off')\n",
    "\n",
    "## compute x = Cb_inv * y\n",
    "x_init = np.linalg.inv(Cb).dot(y)\n",
    "# mintmp = np.min(x_init)\n",
    "# maxtmp = np.max(x_init)\n",
    "# x_init = (x_init - mintmp) / (maxtmp - mintmp)\n",
    "x = np.copy(x_init)\n",
    "\n",
    "init_fig = plt.figure()\n",
    "ax = init_fig.add_subplot(1, 1, 1)\n",
    "init_plot = plt.imshow(x_init.reshape((H,W)), cmap='gray', vmin=0, vmax=1)\n",
    "ax.set_title('Recovered Image')\n",
    "ax.axis('off')\n",
    "\n",
    "print(x_init - vorig)"
   ]
  },
  {
   "cell_type": "markdown",
   "metadata": {},
   "source": [
    "# Introduce subsampled image deblurring problem"
   ]
  },
  {
   "cell_type": "code",
   "execution_count": 9,
   "metadata": {},
   "outputs": [
    {
     "name": "stdout",
     "output_type": "stream",
     "text": [
      "2048\n"
     ]
    }
   ],
   "source": [
    "## Create noisy measurements\n",
    "s = 2 # subsampling rate\n",
    "y0 = Cb.dot(vorig) + noises\n",
    "xinit = np.linalg.inv(Cb).dot(y0)\n",
    "\n",
    "y = y0[::s]\n",
    "print(y.size)\n",
    "y_zpad = np.zeros((N,))\n",
    "y_zpad[::s] = y0[::s] # zero pad for visualization\n"
   ]
  },
  {
   "cell_type": "code",
   "execution_count": 10,
   "metadata": {},
   "outputs": [
    {
     "name": "stdout",
     "output_type": "stream",
     "text": [
      "(2048, 4096)\n",
      "19859.29384444472\n"
     ]
    }
   ],
   "source": [
    "## Precompute essential matrices\n",
    "idx = np.arange(0, H*W, s)\n",
    "S_Cb = Cb[idx,:]\n",
    "print(S_Cb.shape)\n",
    "S_Cb_pinv = np.linalg.pinv(S_Cb)\n",
    "L = np.linalg.norm(S_Cb, 'f')\n",
    "print(L)"
   ]
  },
  {
   "cell_type": "code",
   "execution_count": 11,
   "metadata": {},
   "outputs": [
    {
     "data": {
      "text/plain": [
       "(-0.5, 63.5, 63.5, -0.5)"
      ]
     },
     "execution_count": 11,
     "metadata": {},
     "output_type": "execute_result"
    },
    {
     "data": {
      "image/png": "[encoded data removed]",
      "text/plain": [
       "<Figure size 432x288 with 1 Axes>"
      ]
     },
     "metadata": {
      "needs_background": "light"
     },
     "output_type": "display_data"
    }
   ],
   "source": [
    "# Visualize blurry measurements with zero-padding\n",
    "mintmp = np.min(y_zpad)\n",
    "maxtmp = np.max(y_zpad)\n",
    "y_zpad_v = (y_zpad - mintmp) / (maxtmp - mintmp)\n",
    "\n",
    "fig = plt.figure()\n",
    "ax = fig.add_subplot(1, 1, 1)\n",
    "plot = plt.imshow(y_zpad_v.reshape((H,W)), cmap='gray', vmin=0, vmax=1)\n",
    "ax.set_title('Subsampled Measurements')\n",
    "ax.axis('off')"
   ]
  },
  {
   "cell_type": "code",
   "execution_count": 12,
   "metadata": {},
   "outputs": [
    {
     "name": "stdout",
     "output_type": "stream",
     "text": [
      "[0.62982    0.53727108 0.35833258 ... 0.42678018 0.4017514  0.32299559] [0.6372549  0.62745098 0.61764706 ... 0.11764706 0.12745098 0.26470588]\n"
     ]
    },
    {
     "data": {
      "text/plain": [
       "(-0.5, 63.5, 63.5, -0.5)"
      ]
     },
     "execution_count": 12,
     "metadata": {},
     "output_type": "execute_result"
    },
    {
     "data": {
      "image/png": "[encoded data removed]",
      "text/plain": [
       "<Figure size 432x288 with 1 Axes>"
      ]
     },
     "metadata": {
      "needs_background": "light"
     },
     "output_type": "display_data"
    }
   ],
   "source": [
    "## Visualize naive initialization\n",
    "x_init = S_Cb_pinv.dot(y)\n",
    "mintmp = np.min(x_init)\n",
    "maxtmp = np.max(x_init)\n",
    "x_init = (x_init - mintmp) / (maxtmp - mintmp)\n",
    "print(x_init, vorig)\n",
    "\n",
    "init_fig = plt.figure()\n",
    "ax = init_fig.add_subplot(1, 1, 1)\n",
    "init_plot = plt.imshow(x_init.reshape((H,W)), cmap='gray', vmin=0, vmax=1)\n",
    "ax.set_title(f'Blurred Image (Initialization), PSNR = {peak_signal_noise_ratio(x_init.reshape((H,W)), ORIG):0.2f}')\n",
    "ax.axis('off')"
   ]
  },
  {
   "cell_type": "code",
   "execution_count": 13,
   "metadata": {
    "scrolled": true
   },
   "outputs": [],
   "source": [
    "def PnP_SVRG_Deblur(z, SCb, V1, V2, meas, eta, T1, T2, batch_size, FILTER, patch, orig):\n",
    "    H, W = orig.shape[:2]\n",
    "    time_per_iter = []\n",
    "    psnr_per_iter = []\n",
    "    t0 = 0\n",
    "\n",
    "    ## Main PnP SVRG routine\n",
    "    for i in range(T_outer):\n",
    "        ## outer loop\n",
    "        mu = np.real(full_grad(z, meas, V1, V2))\t# Average gradient\n",
    "        w = np.copy(z) \t\t\t\t\t# reference point\n",
    "        start_iter = time.time()\n",
    "        for j in range(T_inner):\n",
    "            ## inner loop\n",
    "            # prep matrices for batch\n",
    "            BAT = np.random.choice(meas.size, batch_size, replace=False)\n",
    "\n",
    "            W1 = np.zeros(SCb.shape[:2])\n",
    "            W1[BAT,:] = SCb[BAT,:]\n",
    "\n",
    "            meas_bat = np.zeros(SCb.shape[0])\n",
    "            meas_bat[BAT] = meas[BAT]\n",
    "\n",
    "            # stoch grad update\n",
    "            start_grad = time.time()\n",
    "            \n",
    "            v = stoch_grad(z, meas_bat, W1, V2) / batch_size - stoch_grad(w, meas_bat, W1, V2) / batch_size + mu / len(meas)\n",
    "#             print(z, v)\n",
    "            z = z - eta *v\n",
    "\n",
    "            # Denoising\n",
    "            ztilde = np.copy(z)\n",
    "#             mintmp = np.min(ztilde)\n",
    "#             maxtmp = np.max(ztilde)\n",
    "#             ztilde = (ztilde - mintmp) / (maxtmp - mintmp)\n",
    "\n",
    "            # denoise\n",
    "            z = denoise_nl_means(np.real(ztilde.reshape(H,W)), h=FILTER, fast_mode=True, **patch)\n",
    "            print(str(i) + \" \" + str(j) + \" \" + str(peak_signal_noise_ratio(orig, z.reshape(H,W))))\n",
    "            z = np.matrix.flatten(z)\n",
    "        stop_iter = time.time()\n",
    "        time_per_iter.append(stop_iter - start_iter)\n",
    "        psnr_per_iter.append(peak_signal_noise_ratio(orig, z.reshape(H,W)))\n",
    "\n",
    "        t0 += 1\n",
    "    return z, time_per_iter, psnr_per_iter"
   ]
  },
  {
   "cell_type": "code",
   "execution_count": null,
   "metadata": {
    "scrolled": true
   },
   "outputs": [],
   "source": [
    "## Run PnP-SVRG\n",
    "T_outer = 10 \t\t\t\t# Number of outer loop iterations\n",
    "T_inner = 4 \t\t\t\t# Number of inner loop iterations\n",
    "eta_SVRG = .000001\t\t\t\t# step size for SVRG\n",
    "batch_size_SVRG=100\n",
    "NLM_filter = .015\n",
    "patch_kw = dict(patch_size=5,      # 5x5 patches\n",
    "                patch_distance=6,  # 13x13 search area\n",
    "                multichannel=True)\n",
    "\n",
    "output_SVRG, time_per_iter_SVRG, psnr_per_iter_SVRG = PnP_SVRG_Deblur(x_init, S_Cb, V_1, V_2, y, eta_SVRG, \\\n",
    "                                                                     T_outer, T_inner, batch_size_SVRG, \\\n",
    "                                                                     NLM_filter, patch_kw, ORIG)\n"
   ]
  },
  {
   "cell_type": "code",
   "execution_count": null,
   "metadata": {},
   "outputs": [],
   "source": [
    "psnr_output_SVRG = peak_signal_noise_ratio(ORIG, output_SVRG.reshape(H,W))\n",
    "svrg_fig = plt.figure()\n",
    "ax = svrg_fig.add_subplot(1, 1, 1)\n",
    "svrg_plot = plt.imshow(output_SVRG.reshape(H,W), cmap='gray', vmin=0, vmax=1)\n",
    "ax.set_title(f\"PnP-SVRG (Ours), PSNR = {psnr_output_SVRG:0.2f}\")\n",
    "ax.axis('off')"
   ]
  },
  {
   "cell_type": "code",
   "execution_count": null,
   "metadata": {},
   "outputs": [],
   "source": [
    "def PnP_GD_Deblur(z, SCb, meas, eta, T, FILTER, patch, orig):\n",
    "    time_per_iter = []\n",
    "    psnr_per_iter = []\n",
    "    m = meas.size\n",
    "    print(\"Initial PSNR = \" + str(peak_signal_noise_ratio(orig, z.reshape([H,W]))))\n",
    "    t1 = 0\n",
    "    # Main PnP GD routine\n",
    "    for i in range(T):\n",
    "        start_iter = time.time()\n",
    "        # Update variables\n",
    "        v = full_grad(z, meas, SCb) / m\n",
    "        print(eta*v)\n",
    "        z = z - eta * v\n",
    "\n",
    "        print(str(i) + \" \" + str(peak_signal_noise_ratio(orig, z.reshape(H,W))))\n",
    "\n",
    "        # Denoising\n",
    "        ztilde = np.copy(z)\n",
    "\n",
    "#         # rescale\n",
    "#         mintmp = np.min(ztilde)\n",
    "#         maxtmp = np.max(ztilde)\n",
    "#         ztilde = (ztilde - mintmp) / (maxtmp - mintmp)\n",
    "\n",
    "        z = denoise_nl_means(np.real(ztilde.reshape(H,W)), h=FILTER, fast_mode=True, **patch)\n",
    "        stop_iter = time.time()\n",
    "\n",
    "        time_per_iter.append(stop_iter-start_iter)\n",
    "        psnr_per_iter.append(peak_signal_noise_ratio(orig, z))\n",
    "\n",
    "        print(str(i) + \" \" + str(peak_signal_noise_ratio(orig, z)))\n",
    "        t1 += 1\n",
    "        z = np.matrix.flatten(z)\n",
    "    return z, time_per_iter, psnr_per_iter"
   ]
  },
  {
   "cell_type": "code",
   "execution_count": null,
   "metadata": {},
   "outputs": [],
   "source": [
    "T_GD = 100\n",
    "eta_GD = 6 / L\n",
    "NLM_filter = .03\n",
    "\n",
    "patch_kw = dict(patch_size=5,      # 5x5 patches\n",
    "                patch_distance=6,  # 13x13 search area\n",
    "                multichannel=True)\n",
    "\n",
    "output_GD, time_per_iter_GD, psnr_per_iter_GD = PnP_GD_Deblur(x_init, S_Cb, y, eta_GD, T_GD, NLM_filter, patch_kw, ORIG)"
   ]
  },
  {
   "cell_type": "code",
   "execution_count": null,
   "metadata": {},
   "outputs": [],
   "source": [
    "mintmp = np.min(output_GD)\n",
    "maxtmp = np.max(output_GD)\n",
    "output_GD = (output_GD - mintmp) / (maxtmp - mintmp)\n",
    "\n",
    "psnr_output_GD = peak_signal_noise_ratio(ORIG, output_GD.reshape([H,W]))\n",
    "gd_fig = plt.figure()\n",
    "f, axarr = plt.subplots(1,2)\n",
    "axarr[0].imshow(output_GD.reshape([H,W]), cmap='gray', vmin=0, vmax=1)\n",
    "axarr[0].set_title(f\"PnP-GD, PSNR = {psnr_output_GD:0.2f}\")\n",
    "axarr[1].imshow(x_init.reshape((H,W)), cmap='gray', vmin=0, vmax=1)\n",
    "axarr[1].set_title(f'Initialization, PSNR = {peak_signal_noise_ratio(x_init.reshape((H,W)), ORIG):0.2f}')\n",
    "# ax = gd_fig.add_subplot(1, 2, 1)\n",
    "# gd_plot = plt.imshow(output_GD.reshape([H,W]), cmap='gray', vmin=0, vmax=1)\n",
    "# ax.set_title(f\"PnP-GD, PSNR = {psnr_output_GD:0.2f}\")\n",
    "# ax = gd_fig.addsubplot(1, 2, 2)\n",
    "# init_plot = plt.imshow(x_init.reshape((H,W)), cmap='gray', vmin=0, vmax=1)\n",
    "# ax.set_title(f'Blurred Image (Initialization), PSNR = {peak_signal_noise_ratio(x_init.reshape((H,W)), orig):0.2f}')\n",
    "\n",
    "ax.axis('off')"
   ]
  },
  {
   "cell_type": "code",
   "execution_count": null,
   "metadata": {},
   "outputs": [],
   "source": [
    "def PnP_SGD_Deblur(z, SCb, V1, V2, meas, eta, T, batch_size, FILTER, patch, orig):\n",
    "    time_per_iter = []\n",
    "    psnr_per_iter = []\n",
    "\n",
    "    print(\"Initial PSNR = \" + str(peak_signal_noise_ratio(orig, z.reshape(H,W))))\n",
    "    t2 = 0\n",
    "    # Main PnP SGD routine\n",
    "    for i in range(T):\n",
    "        start_iter = time.time()\n",
    "        # Update variables\n",
    "        BAT = np.random.choice(meas.size, batch_size, replace=False)\n",
    "\n",
    "        W1 = np.zeros(SCb.shape[:2])\n",
    "        W1[BAT,:] = SCb[BAT,:]\n",
    "\n",
    "        meas_bat = np.zeros(SCb.shape[0])\n",
    "        meas_bat[BAT] = meas[BAT]\n",
    "\n",
    "        v = stoch_grad(z, meas_bat, W1, V2)\n",
    "        z = z - eta * v\n",
    "\n",
    "        ## Denoising\n",
    "        ztilde = np.copy(z)\n",
    "\n",
    "        # rescale\n",
    "        mintmp = np.min(ztilde)\n",
    "        maxtmp = np.max(ztilde)\n",
    "        ztilde = (ztilde - mintmp) / (maxtmp - mintmp)\n",
    "\n",
    "        z = denoise_nl_means(np.real(ztilde.reshape(H,W)), h=FILTER, fast_mode=True, **patch)\n",
    "        stop_iter = time.time()\n",
    "\n",
    "        time_per_iter.append(stop_iter-start_iter)\n",
    "        psnr_per_iter.append(peak_signal_noise_ratio(orig, z.reshape(H,W)))\n",
    "\n",
    "        print(str(i) + \" \" + str(peak_signal_noise_ratio(orig, z.reshape(H,W))))\n",
    "        t2 += 1\n",
    "        z = np.matrix.flatten(z)\n",
    "    return z, time_per_iter, psnr_per_iter"
   ]
  },
  {
   "cell_type": "code",
   "execution_count": null,
   "metadata": {},
   "outputs": [],
   "source": [
    "T_SGD = 10\n",
    "eta_SGD = 1 / L\t\t\t\t# step size for GD\n",
    "batch_size_SGD = 100\n",
    "NLM_filter = .015\t\t\t \t\t \n",
    "\n",
    "patch_kw = dict(patch_size=5,      # 5x5 patches\n",
    "                patch_distance=6,  # 13x13 search area\n",
    "                multichannel=True)\n",
    "\n",
    "output_SGD, time_per_iter_SGD, psnr_per_iter_SGD = PnP_SGD_Deblur(x_init, S_Cb, V_1, V_2, y, eta_SGD, T_SGD, batch_size_SGD, \\\n",
    "                                                                 NLM_filter, patch_kw, ORIG)"
   ]
  },
  {
   "cell_type": "code",
   "execution_count": null,
   "metadata": {},
   "outputs": [],
   "source": [
    "psnr_output_SGD = peak_signal_noise_ratio(ORIG, output_SGD.reshape(H,W))\n",
    "sgd_fig = plt.figure()\n",
    "ax = sgd_fig.add_subplot(1, 1, 1)\n",
    "sgd_plot = plt.imshow(output_SGD.reshape(H,W), cmap='gray', vmin=0, vmax=1)\n",
    "ax.set_title(f\"PnP-SGD, PSNR = {psnr_output_SGD:0.2f}\")\n",
    "ax.axis('off')"
   ]
  },
  {
   "cell_type": "code",
   "execution_count": null,
   "metadata": {},
   "outputs": [],
   "source": [
    "alpha = 2.0\n",
    "T_ADMM = 20\n",
    "NLM_filter = .015\t\t\t \t\t \n",
    "\n",
    "x = np.copy(x_init)\n",
    "print(\"Initial PSNR = \" + str(peak_signal_noise_ratio(orig, x)))\n",
    "t3 = 0\n",
    "\n",
    "patch_kw = dict(patch_size=5,      # 5x5 patches\n",
    "                patch_distance=6,  # 13x13 search area\n",
    "                multichannel=True)\n",
    "\n",
    "time_per_iter_ADMM = []\n",
    "psnr_per_iter_ADMM = []\n",
    "\n",
    "v = np.copy(x)\n",
    "u = np.zeros((H,W), dtype=np.float64)\n",
    "\n",
    "\"\"\" Main loop. \"\"\"\n",
    "for i in range(T_ADMM):\n",
    "\tstart_iter = time.time()\n",
    "\txold = np.copy(x)\n",
    "\tvold = np.copy(v)\n",
    "\tuold = np.copy(u)\n",
    "\t\"\"\" Update variables. \"\"\"\n",
    "\n",
    "\tvtilde = np.copy(x+u)\n",
    "\tvf = np.fft.fft2(vtilde)\n",
    "\tLa2 = 1.0/2.0/alpha\n",
    "\tvf[index] = (La2 * vf[index] + y[index]) / (1.0 + La2)\n",
    "\tv = np.real(np.fft.ifft2(vf))\n",
    "\n",
    "\t\"\"\" Denoising step. \"\"\"\n",
    "\n",
    "\txtilde = np.copy(2*v - xold - uold)\n",
    "\tmintmp = np.min(xtilde)\n",
    "\tmaxtmp = np.max(xtilde)\n",
    "\txtilde = (xtilde - mintmp) / (maxtmp - mintmp)\n",
    "\n",
    "\t# the reason for the following scaling:\n",
    "\t# our denoisers are trained with \"normalized images + noise\"\n",
    "\t# so the scale should be 1 + O(sigma)\n",
    "\tscale_range = 1.0 + sigma/255.0/2.0 \n",
    "\tscale_shift = (1 - scale_range) / 2.0\n",
    "\txtilde = xtilde * scale_range + scale_shift\n",
    "\t\n",
    "\n",
    "\t# pytorch denoising model\n",
    "\tx = denoise_nl_means(np.real(xtilde), h=NLM_filter, fast_mode=True, **patch_kw)\n",
    "\n",
    "\t# scale and shift the denoised image back\n",
    "\tx = (x - scale_shift) / scale_range\n",
    "\tx = x * (maxtmp - mintmp) + mintmp\n",
    "\n",
    "\t\"\"\" Update variables. \"\"\"\n",
    "\tu = uold + xold - v\n",
    "\tstop_iter = time.time()\n",
    "\n",
    "\ttime_per_iter_ADMM.append(stop_iter-start_iter)\n",
    "\tpsnr_per_iter_ADMM.append(peak_signal_noise_ratio(orig, x))\n",
    "\tprint(str(i) + \" \" + str(peak_signal_noise_ratio(orig, x)))\n",
    "\tt3 += 1\n",
    "\n",
    "output_ADMM = np.copy(x)"
   ]
  },
  {
   "cell_type": "code",
   "execution_count": null,
   "metadata": {},
   "outputs": [],
   "source": [
    "psnr_output_ADMM = peak_signal_noise_ratio(orig, output_ADMM)\n",
    "admm_fig = plt.figure()\n",
    "ax = admm_fig.add_subplot(1, 1, 1)\n",
    "admm_plot = plt.imshow(output_ADMM, cmap='gray', vmin=0, vmax=1)\n",
    "ax.set_title(f\"PnP-ADMM, PSNR = {psnr_output_ADMM:0.2f}\")\n",
    "ax.axis('off')"
   ]
  },
  {
   "cell_type": "code",
   "execution_count": null,
   "metadata": {},
   "outputs": [],
   "source": [
    "def PnP_LSVRG_Deblur(z, SCb, V1, V2, meas, eta, T, batch_size, p, FILTER, patch, orig):\n",
    "    H, W = orig.shape[:2]\n",
    "    \n",
    "    time_per_iter = []\n",
    "    psnr_per_iter = []\n",
    "\n",
    "    w = np.copy(z)\n",
    "\n",
    "    t4 = 0\n",
    "    zero_mat = np.zeros([H,W])\n",
    "    # Main PnP SVRG routine\n",
    "    for i in range(T):\n",
    "        # Update variables\n",
    "        BAT = np.random.choice(meas.size, batch_size, replace=False)\n",
    "\n",
    "        W1 = np.zeros(SCb.shape[:2])\n",
    "        W1[BAT,:] = SCb[BAT,:]\n",
    "\n",
    "        meas_bat = np.zeros(SCb.shape[0])\n",
    "        meas_bat[BAT] = meas[BAT]\n",
    "        # outer loop\n",
    "        mu = full_grad(z, meas_bat, V1, V2)   \t# Average gradient\n",
    "        # \tw = np.copy(x) \t\t\t\t\t# reference point\n",
    "        start_iter = time.time()\n",
    "\n",
    "        # inner loop\n",
    "        start_grad = time.time()\n",
    "        v = stoch_grad(z, meas_bat, W1, V2) - stoch_grad(w, meas_bat, W1, V2) + mu\n",
    "        z = z - eta_LSVRG*v\n",
    "\n",
    "        # Denoising\n",
    "        ztilde = np.copy(z)\n",
    "\n",
    "        # rescale\n",
    "        mintmp = np.min(ztilde)\n",
    "        maxtmp = np.max(ztilde)\n",
    "        ztilde = (ztilde - mintmp) / (maxtmp - mintmp)\n",
    "\n",
    "        # denoise\n",
    "        z = denoise_nl_means(np.real(ztilde.reshape(H,W)), h=FILTER, fast_mode=True, **patch)\n",
    "        print(str(i) + \" \" + str(peak_signal_noise_ratio(orig, z)))\n",
    "\n",
    "        # update reference point with probability 1-p\n",
    "        if np.random.random() > p:\n",
    "            w = np.copy(z)\n",
    "            w = np.matrix.flatten(w)\n",
    "\n",
    "        stop_iter = time.time()\n",
    "        time_per_iter.append(stop_iter - start_iter)\n",
    "        psnr_per_iter.append(peak_signal_noise_ratio(orig, z.reshape(H,W)))\n",
    "\n",
    "        t4 += 1\n",
    "        z = np.matrix.flatten(z)\n",
    "    return z, time_per_iter, psnr_per_iter"
   ]
  },
  {
   "cell_type": "code",
   "execution_count": null,
   "metadata": {},
   "outputs": [],
   "source": [
    "T_LSVRG = 20 \t\t\t\t# Number of outer loop iterations\n",
    "eta_LSVRG = 1 / L\t\t\t\t# step size for SVRG\n",
    "p_LSVRG = .8\t\t\t\t\t\t# probability of NOT updating reference point\n",
    "batch_size_LSVRG = 100\n",
    "NLM_filter = .015\n",
    "patch_kw = dict(patch_size=5,      # 5x5 patches\n",
    "                patch_distance=6,  # 13x13 search area\n",
    "                multichannel=True)\n",
    "\n",
    "output_LSVRG, time_per_iter_LSVRG, psnr_per_iter_LSVRG = PnP_LSVRG_Deblur(x_init, S_Cb, V_1, V_2, y, \\\n",
    "                                                                         eta_LSVRG, T_LSVRG, \\\n",
    "                                                                         batch_size_LSVRG, p_LSVRG, \\\n",
    "                                                                         NLM_filter, patch_kw, ORIG)"
   ]
  },
  {
   "cell_type": "code",
   "execution_count": null,
   "metadata": {},
   "outputs": [],
   "source": [
    "psnr_output_LSVRG = peak_signal_noise_ratio(ORIG, output_LSVRG.reshape(H,W))\n",
    "lsvrg_fig = plt.figure()\n",
    "ax = lsvrg_fig.add_subplot(1, 1, 1)\n",
    "lsvrg_plot = plt.imshow(output_LSVRG.reshape(H,W), cmap='gray', vmin=0, vmax=1)\n",
    "ax.set_title(f\"PnP-L-SVRG, PSNR = {psnr_output_LSVRG:0.2f}\")\n",
    "ax.axis('off')"
   ]
  },
  {
   "cell_type": "code",
   "execution_count": null,
   "metadata": {},
   "outputs": [],
   "source": [
    "T_LKatyusha = 10 \t\t\t\t# Number of outer loop iterations\n",
    "\n",
    "p = .02\t\t\t\t\t\t# probability of NOT updating reference point\n",
    "theta1 = .0001\n",
    "theta2 = .0001\n",
    "eta_LKatyusha = theta2/((1+theta2)*theta1)\t\t\t\t# step size for SVRG\n",
    "mu = 1\n",
    "L = 1\n",
    "sigma = mu/L\n",
    "\n",
    "batch_size_LKatyusha=100\n",
    "NLM_filter = .015\n",
    "patch_kw = dict(patch_size=5,      # 5x5 patches\n",
    "                patch_distance=6,  # 13x13 search area\n",
    "                multichannel=True)\n",
    "\n",
    "time_per_iter_LKatyusha = []\n",
    "psnr_per_iter_LKatyusha = []\n",
    "\n",
    "u = np.copy(x_init)\n",
    "w = np.copy(x_init)\n",
    "z = np.copy(x_init)\n",
    "\n",
    "W_2 = np.transpose(S_Cb)\n",
    "\n",
    "t5 = 0\n",
    "zero_mat = np.zeros([H,W])\n",
    "# Main PnP SVRG routine\n",
    "for i in range(T_LKatyusha):\n",
    "    z_old = np.copy(z)\n",
    "    x = theta1*z + theta2*w + (1 - theta1 - theta2)*u\n",
    "    start_iter = time.time()\n",
    "\n",
    "    # Update variables\n",
    "    BAT = np.random.choice(y.size, batch_size_LKatyusha, replace=False)\n",
    "    print(BAT)\n",
    "    W_1 = np.zeros(S_Cb.shape[:2])\n",
    "    W_1[BAT,:] = S_Cb[BAT,:]\n",
    "\n",
    "    y_bat = np.zeros(S_Cb.shape[0])\n",
    "    y_bat[BAT] = y[BAT]\n",
    "    \n",
    "    start_grad = time.time()\n",
    "    g = stoch_grad(x, y_bat, W_1, W_2) - stoch_grad(x, y_bat, W_1, W_2) + full_grad(x, y, M_1, M_2)\n",
    "    z = (1 / (1 + eta_LKatyusha*sigma))*(eta_LKatyusha*sigma*x + z - eta_LKatyusha / L * g)\n",
    "    u = x + theta1*(z - z_old)\n",
    "    \n",
    "    # Denoising\n",
    "    wtilde = np.copy(w)\n",
    "\n",
    "    # rescale\n",
    "    mintmp = np.min(wtilde)\n",
    "    maxtmp = np.max(wtilde)\n",
    "    wtilde = (wtilde - mintmp) / (maxtmp - mintmp)\n",
    "    \n",
    "    # denoise\n",
    "    w = denoise_nl_means(np.real(wtilde), h=NLM_filter, fast_mode=True, **patch_kw)\n",
    "    print(str(i) + \" \" + str(peak_signal_noise_ratio(orig, w.reshape(H,W))))\n",
    "\n",
    "    # update reference point with probability 1-p\n",
    "    if np.random.random() > p:\n",
    "        w = np.copy(y)\n",
    "        \n",
    "    stop_iter = time.time()\n",
    "    time_per_iter_LKatyusha.append(stop_iter - start_iter)\n",
    "    psnr_per_iter_LKatyusha.append(peak_signal_noise_ratio(orig, w.reshape(H,W)))\n",
    "\n",
    "    t5 += 1\n",
    "    w = np.matrix.flatten(w)\n",
    "output_LKatyusha = w"
   ]
  },
  {
   "cell_type": "code",
   "execution_count": null,
   "metadata": {},
   "outputs": [],
   "source": [
    "#$ Figure to display iteration count/ clock time vs PSNR for all algorithms\n",
    "psnr_fig, psnr_ax = plt.subplots(nrows=1, ncols=2, figsize=(8, 6))\n",
    "\n",
    "psnr_ax[0].plot(np.cumsum(time_per_iter_SVRG), psnr_per_iter_SVRG)\n",
    "psnr_ax[0].plot(np.cumsum(time_per_iter_GD), psnr_per_iter_GD)\n",
    "psnr_ax[0].plot(np.cumsum(time_per_iter_SGD), psnr_per_iter_SGD)\n",
    "psnr_ax[0].plot(np.cumsum(time_per_iter_ADMM), psnr_per_iter_ADMM)\n",
    "psnr_ax[0].plot(np.cumsum(time_per_iter_LSVRG), psnr_per_iter_LSVRG)\n",
    "psnr_ax[0].plot(np.cumsum(time_per_iter_LKatyusha), psnr_per_iter_LKatyusha)\n",
    "\n",
    "psnr_ax[1].plot(range(t0), psnr_per_iter_SVRG)\n",
    "psnr_ax[1].plot(range(t1), psnr_per_iter_GD)\n",
    "psnr_ax[1].plot(range(t2), psnr_per_iter_SGD)\n",
    "psnr_ax[1].plot(range(t3), psnr_per_iter_ADMM)\n",
    "psnr_ax[1].plot(range(t4), psnr_per_iter_LSVRG)\n",
    "psnr_ax[1].plot(range(t5), psnr_per_iter_LKatyusha)\n",
    "\n",
    "psnr_ax[0].set(xlabel='time (s)', ylabel='PSNR (dB)')\n",
    "psnr_ax[0].legend(('PnP-SVRG', 'PnP-GD', 'PnP-SGD', 'PnP-ADMM', 'PnP-LSVRG', 'PnP-LKatyusha'), loc='lower right')\n",
    "psnr_ax[0].grid()\n",
    "\n",
    "psnr_ax[1].set(xlabel='iteration', ylabel='PSNR (dB)')\n",
    "psnr_ax[1].legend(('PnP-SVRG','PnP-GD', 'PnP-SGD', 'PnP-ADMM', 'PnP-LSVRG', 'PnP-LKatyusha'), loc='lower right')\n",
    "psnr_ax[1].grid()\n",
    "\n",
    "psnr_fig.tight_layout()\n",
    "\n",
    "plt.show()"
   ]
  }
 ],
 "metadata": {
  "kernelspec": {
   "display_name": "Python 3",
   "language": "python",
   "name": "python3"
  },
  "language_info": {
   "codemirror_mode": {
    "name": "ipython",
    "version": 3
   },
   "file_extension": ".py",
   "mimetype": "text/x-python",
   "name": "python",
   "nbconvert_exporter": "python",
   "pygments_lexer": "ipython3",
   "version": "3.8.3"
  }
 },
 "nbformat": 4,
 "nbformat_minor": 2
}
