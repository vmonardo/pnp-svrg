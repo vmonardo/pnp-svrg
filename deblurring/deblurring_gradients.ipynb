{
 "cells": [
  {
   "cell_type": "code",
   "execution_count": 15,
   "metadata": {},
   "outputs": [],
   "source": [
    "import numpy as np\n",
    "import math\n",
    "from scipy.linalg import dft "
   ]
  },
  {
   "cell_type": "code",
   "execution_count": 30,
   "metadata": {},
   "outputs": [],
   "source": [
    "def full_grad(z, meas, S):\n",
    "    # Input: \n",
    "    #\t- z, optimization iterate\n",
    "    #   - meas, observed measurements\n",
    "    # \t- M1, M2 precomputed matrices capturing subsampled blurred info\n",
    "    # Output:\n",
    "    # \t- Full gradient at z\n",
    "    return S.T.dot(S.dot(z) - meas)"
   ]
  },
  {
   "cell_type": "code",
   "execution_count": 17,
   "metadata": {},
   "outputs": [],
   "source": [
    "def stoch_grad(z, meas, M1, M2):\n",
    "    # Input: \n",
    "    #\t- z, optimization iterate\n",
    "    #   - meas, observed measurements\n",
    "    # \t- M1, M2 precomputed matrices capturing subsampled blurred info\n",
    "    #   - ind, batch to update\n",
    "    # Output:\n",
    "    # \t- Full gradient at z\n",
    "\n",
    "    # get parameters\n",
    "    m = meas.size\n",
    "    weights = M1.dot(z) - meas\n",
    "    # output gradient as a matrix\n",
    "    return M2.dot(weights) "
   ]
  },
  {
   "cell_type": "code",
   "execution_count": 18,
   "metadata": {},
   "outputs": [],
   "source": [
    "def get_batch(B, H, W, N):\n",
    "    # Input:\n",
    "    # B, batch size\n",
    "    # H, image height\n",
    "    # W, image width\n",
    "    # N, list of indices\n",
    "    # Output:\n",
    "    # batch indices\n",
    "\n",
    "    #Generate random indices\n",
    "    tmp = np.random.permutation(N)\n",
    "    k = tmp[0:B][:]\n",
    "    batch = np.zeros([H,W])\n",
    "    batch[k[:,0], k[:,1]] = 1\n",
    "\n",
    "    # find nonzero batch indices\n",
    "    return batch"
   ]
  },
  {
   "cell_type": "code",
   "execution_count": 2,
   "metadata": {},
   "outputs": [],
   "source": [
    "# ## Test stoch grad\n",
    "# x = np.random.randn(128,128)\n",
    "# ind = get_batch(1, 128, 128, np.transpose(np.nonzero(x)))\n",
    "# blur = np.random.randn(128, 128)\n",
    "# y = np.multiply(x, blur)\n",
    "# print(x.shape, ind.shape, blur.shape, y.shape)\n",
    "# test = stoch_grad(x, blur, y, ind)\n",
    "# print(test.shape)"
   ]
  }
 ],
 "metadata": {
  "kernelspec": {
   "display_name": "Python 3",
   "language": "python",
   "name": "python3"
  },
  "language_info": {
   "codemirror_mode": {
    "name": "ipython",
    "version": 3
   },
   "file_extension": ".py",
   "mimetype": "text/x-python",
   "name": "python",
   "nbconvert_exporter": "python",
   "pygments_lexer": "ipython3",
   "version": "3.8.3"
  }
 },
 "nbformat": 4,
 "nbformat_minor": 2
}
