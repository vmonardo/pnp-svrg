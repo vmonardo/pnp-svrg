{
 "cells": [
  {
   "cell_type": "code",
   "execution_count": 7,
   "metadata": {},
   "outputs": [],
   "source": [
    "import numpy as np\n",
    "import math\n",
    "from scipy.linalg import dft \n",
    "\n",
    "import numpy as np\n",
    "import matplotlib.pyplot as plt\n",
    "from os.path import dirname, abspath\n",
    "import os\n",
    "import matplotlib.pyplot as plt\n",
    "from PIL import Image\n",
    "import time\n",
    "\n",
    "from skimage import data, img_as_float\n",
    "from skimage.restoration import denoise_nl_means, estimate_sigma\n",
    "from skimage.metrics import peak_signal_noise_ratio\n",
    "from skimage.util import random_noise\n",
    "\n",
    "from scipy.linalg import circulant"
   ]
  },
  {
   "cell_type": "code",
   "execution_count": 2,
   "metadata": {},
   "outputs": [],
   "source": [
    "def full_grad(z, meas, S):\n",
    "    # Input: \n",
    "    #\t- z, optimization iterate\n",
    "    #   - meas, observed measurements\n",
    "    # \t- M1, M2 precomputed matrices capturing subsampled blurred info\n",
    "    # Output:\n",
    "    # \t- Full gradient at z\n",
    "    return S.T.dot(S.dot(z) - meas)"
   ]
  },
  {
   "cell_type": "code",
   "execution_count": 52,
   "metadata": {},
   "outputs": [],
   "source": [
    "def stoch_grad(z, meas, S, mini_batch_size):\n",
    "    # Input: \n",
    "    #\t- z, optimization iterate\n",
    "    #   - meas, observed measurements\n",
    "    # \t- M1, M2 precomputed matrices capturing subsampled blurred info\n",
    "    #   - ind, batch to update\n",
    "    # Output:\n",
    "    # \t- Full gradient at z\n",
    "\n",
    "    # get parameters\n",
    "    m = meas.size\n",
    "    n = z.size\n",
    "    idx = get_batch(mini_batch_size, m)\n",
    "    print(idx.shape)\n",
    "    res = S.dot(z) - meas\n",
    "    print(res.shape)\n",
    "    weights = np.multiply(idx,res)\n",
    "    print(weights.shape)\n",
    "    # output gradient as a matrix\n",
    "    return S.T.dot(weights) "
   ]
  },
  {
   "cell_type": "code",
   "execution_count": 47,
   "metadata": {},
   "outputs": [],
   "source": [
    "def get_batch(B, N):\n",
    "    # Input:\n",
    "    # B, batch size\n",
    "    # H, image height\n",
    "    # W, image width\n",
    "    # N, list of indices\n",
    "    # Output:\n",
    "    # batch indices\n",
    "\n",
    "    #Generate random indices\n",
    "    tmp = np.random.permutation(N)\n",
    "    k = tmp[0:B]\n",
    "    batch = np.zeros(N)\n",
    "    batch[k] = 1\n",
    "\n",
    "    # find nonzero batch indices\n",
    "    return batch"
   ]
  },
  {
   "cell_type": "code",
   "execution_count": 34,
   "metadata": {},
   "outputs": [
    {
     "name": "stdout",
     "output_type": "stream",
     "text": [
      "(2048, 4096)\n"
     ]
    }
   ],
   "source": [
    "np.random.seed(0)\n",
    "\n",
    "## Set paths\n",
    "data_path=\"../data/Set12/\"\n",
    "save_path=\"./figures/\"\n",
    "blur_path=\"./\"\n",
    "image_list = sorted(os.listdir(data_path))\n",
    "blur_list = sorted(os.listdir(blur_path))\n",
    "\n",
    "# set image and blurring kernel size\n",
    "H = 64\n",
    "W = 64\n",
    "\n",
    "## Read test image\n",
    "# normalize image pixels in range [0,1]\n",
    "# orig = np.array(Image.open(data_path + image_list[8])) / 225.0\n",
    "ORIG = Image.open(data_path + image_list[7]).resize((H,W))\n",
    "ORIG = np.array(ORIG) / 255.0\n",
    "mintmp = np.min(ORIG)\n",
    "maxtmp = np.max(ORIG)\n",
    "ORIG = (ORIG - mintmp) / (maxtmp - mintmp)\n",
    "\n",
    "## Read blurring kernel\n",
    "blur = Image.open(blur_path + blur_list[2]).resize((H,W))\n",
    "\n",
    "## Set signal model parameters\n",
    "H, W = ORIG.shape[:2] \t\t\t\t# height and width of orig image\n",
    "N = H*W \t\t\t\t\t\t\t# image dimension\n",
    "sigma = 100\t\t\t\t\t\t\t# noise level of measurements\n",
    "\n",
    "## Create noise\n",
    "noises = np.random.normal(0, sigma, (N,))\n",
    "\n",
    "## Create cirulant matrix\n",
    "vb = np.matrix.flatten(np.asarray(blur)) # flatten blurring kernel into a vector\n",
    "Cb = circulant(vb) # create circulant matrix of v_b\n",
    "Cb_inv = np.linalg.inv(Cb)\n",
    "\n",
    "## Vectorize orig image\n",
    "vorig = np.matrix.flatten(np.asarray(ORIG))\n",
    "\n",
    "s = 2 # subsampling rate\n",
    "y0 = Cb.dot(vorig) + noises\n",
    "y = y0[::s]\n",
    "xinit = np.linalg.inv(Cb).dot(y0)\n",
    "\n",
    "## Precompute essential matrices\n",
    "idx = np.arange(0, H*W, s)\n",
    "S_Cb = Cb[idx,:]\n",
    "print(S_Cb.shape)\n",
    "S_Cb_pinv = np.linalg.pinv(S_Cb)\n"
   ]
  },
  {
   "cell_type": "code",
   "execution_count": 54,
   "metadata": {},
   "outputs": [
    {
     "name": "stdout",
     "output_type": "stream",
     "text": [
      "(2048,)\n",
      "(2048,)\n",
      "(2048,)\n",
      "[-2.14277179e-06 -2.54106590e-06 -2.60645879e-06 ...  3.82724465e-07\n",
      " -4.27212399e-07 -1.44288242e-06]\n",
      "[-2.14277179e-06 -2.54106590e-06 -2.60645879e-06 ...  3.82724465e-07\n",
      " -4.27212399e-07 -1.44288242e-06]\n"
     ]
    }
   ],
   "source": [
    "test_full_grad = full_grad(xinit, y, S_Cb)\n",
    "test_stoch_grad = stoch_grad(xinit, y, S_Cb, 2048)\n",
    "print(test_full_grad)\n",
    "print(test_stoch_grad)"
   ]
  },
  {
   "cell_type": "code",
   "execution_count": 46,
   "metadata": {},
   "outputs": [
    {
     "name": "stdout",
     "output_type": "stream",
     "text": [
      "[0. 0. 0. ... 0. 0. 0.] [1. 1. 1. 1. 1. 1. 1. 1. 1. 1.]\n"
     ]
    }
   ],
   "source": [
    "B = 10\n",
    "\n",
    "#Generate random indices\n",
    "tmp = np.random.permutation(N)\n",
    "k = tmp[0:B]\n",
    "batch = np.zeros(N)\n",
    "batch[k] = 1\n",
    "\n",
    "print(batch, batch[k])"
   ]
  },
  {
   "cell_type": "code",
   "execution_count": null,
   "metadata": {},
   "outputs": [],
   "source": []
  }
 ],
 "metadata": {
  "kernelspec": {
   "display_name": "Python 3",
   "language": "python",
   "name": "python3"
  },
  "language_info": {
   "codemirror_mode": {
    "name": "ipython",
    "version": 3
   },
   "file_extension": ".py",
   "mimetype": "text/x-python",
   "name": "python",
   "nbconvert_exporter": "python",
   "pygments_lexer": "ipython3",
   "version": "3.8.3"
  }
 },
 "nbformat": 4,
 "nbformat_minor": 2
}
