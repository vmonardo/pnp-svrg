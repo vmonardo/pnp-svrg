{
 "cells": [
  {
   "cell_type": "code",
   "execution_count": 1,
   "metadata": {},
   "outputs": [],
   "source": [
    "import numpy as np\n",
    "import math\n",
    "from scipy.linalg import dft "
   ]
  },
  {
   "cell_type": "code",
   "execution_count": 2,
   "metadata": {},
   "outputs": [],
   "source": [
    "def full_grad(z, blur, meas):\n",
    "    # Input: \n",
    "    #\t- z, optimization iterate\n",
    "    #   - blur, blurring kernel\n",
    "    # \t- meas, measurements = F(X) + w\n",
    "    # Output:\n",
    "    # \t- Full gradient at z\n",
    "\n",
    "    # get parameters\n",
    "    H, W = z.shape[:2] \t\t\t\t# height and width of orig image\n",
    "    \n",
    "    # vectorize matrices\n",
    "    vblur = np.matrix.flatten(blur)\n",
    "    vz = np.matrix.flatten(z)\n",
    "    \n",
    "    # compute convolution b * x\n",
    "    tmp = np.fft.ifft(np.multiply(np.fft.fft(vblur),np.fft.fft(vz)))\n",
    "    # b*x - y\n",
    "    res = tmp - np.matrix.flatten(meas)\n",
    "    # b*(b*x - y)\n",
    "    grad = np.fft.ifft(np.multiply(np.fft.fft(vblur),np.fft.fft(res)))\n",
    "    # output gradient as a matrix\n",
    "    return np.reshape(grad, [H,W])"
   ]
  },
  {
   "cell_type": "code",
   "execution_count": 3,
   "metadata": {},
   "outputs": [],
   "source": [
    "def stoch_grad(z, blur, meas, ind):\n",
    "    # Input: \n",
    "    #\t- z, optimization iterate\n",
    "    #   - blur, blurring kernel\n",
    "    # \t- meas, measurements = F(X) + w\n",
    "    # Output:\n",
    "    # \t- Full gradient at z\n",
    "\n",
    "    # get parameters\n",
    "    H, W = z.shape[:2] \t\t\t\t# height and width of orig image\n",
    "    \n",
    "    # vectorize matrices\n",
    "    vblur = np.matrix.flatten(blur)\n",
    "    vz = np.matrix.flatten(z)\n",
    "    \n",
    "    # compute convolution b * x\n",
    "    tmp = np.fft.ifft(np.multiply(np.fft.fft(vblur),np.fft.fft(vz)))\n",
    "    # b*x - y\n",
    "    res = tmp - np.matrix.flatten(meas)\n",
    "    # get indices\n",
    "    res = res * np.matrix.flatten(ind)\n",
    "    # b*(b*x - y)\n",
    "    grad = np.fft.ifft(np.multiply(np.fft.fft(vblur),np.fft.fft(res)))\n",
    "    # output gradient as a matrix\n",
    "    return np.reshape(grad, [H,W])"
   ]
  },
  {
   "cell_type": "code",
   "execution_count": 4,
   "metadata": {},
   "outputs": [],
   "source": [
    "def get_batch(B, H, W, N):\n",
    "    # Input:\n",
    "    # B, batch size\n",
    "    # H, image height\n",
    "    # W, image width\n",
    "    # N, list of indices\n",
    "    # Output:\n",
    "    # batch indices\n",
    "\n",
    "    #Generate random indices\n",
    "    tmp = np.random.permutation(N)\n",
    "    k = tmp[0:B][:]\n",
    "    batch = np.zeros([H,W])\n",
    "    batch[k[:,0], k[:,1]] = 1\n",
    "\n",
    "    # find nonzero batch indices\n",
    "    return batch"
   ]
  },
  {
   "cell_type": "code",
   "execution_count": null,
   "metadata": {},
   "outputs": [],
   "source": [
    "# ## Test stoch grad\n",
    "# x = np.random.randn(128,128)\n",
    "# ind = get_batch(1, 128, 128, np.transpose(np.nonzero(x)))\n",
    "# blur = np.random.randn(128, 128)\n",
    "# y = np.multiply(x, blur)\n",
    "# print(x.shape, ind.shape, blur.shape, y.shape)\n",
    "# test = stoch_grad(x, blur, y, ind)\n",
    "# print(test.shape)"
   ]
  }
 ],
 "metadata": {
  "kernelspec": {
   "display_name": "Python 3",
   "language": "python",
   "name": "python3"
  },
  "language_info": {
   "codemirror_mode": {
    "name": "ipython",
    "version": 3
   },
   "file_extension": ".py",
   "mimetype": "text/x-python",
   "name": "python",
   "nbconvert_exporter": "python",
   "pygments_lexer": "ipython3",
   "version": "3.7.2"
  }
 },
 "nbformat": 4,
 "nbformat_minor": 2
}
