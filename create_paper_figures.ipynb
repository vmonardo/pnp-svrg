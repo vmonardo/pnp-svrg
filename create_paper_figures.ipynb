{
 "cells": [
  {
   "cell_type": "markdown",
   "metadata": {},
   "source": [
    "## Create the figures used in Stochastic Variance Reduced Gradient Plug-and-Play Methods for Solving Image Reconnstruction Problems"
   ]
  },
  {
   "cell_type": "code",
   "execution_count": 1,
   "metadata": {},
   "outputs": [
    {
     "name": "stdout",
     "output_type": "stream",
     "text": [
      "Microsoft Visual C++ Redistributable is not installed, this may lead to the DLL load failure.\n",
      "                 It can be downloaded at https://aka.ms/vs/16/release/vc_redist.x64.exe\n",
      "cuda\n"
     ]
    }
   ],
   "source": [
    "%matplotlib inline \n",
    "\n",
    "from imports import *\n",
    "\n",
    "print('cuda' if torch.cuda.is_available() else 'cpu')"
   ]
  },
  {
   "cell_type": "markdown",
   "metadata": {},
   "source": [
    "# Figures 1 + 2: Compare Image Fidelity for Different Algorithms and Compare PSNR over time using NLM"
   ]
  },
  {
   "cell_type": "code",
   "execution_count": 2,
   "metadata": {},
   "outputs": [],
   "source": [
    "MASK = generate_mask()\n",
    "res = create_problem(img_path='./data/Set12/13.jpg', sigma=1.0, mask_=MASK)\n",
    "denoise_parameters = nlm_config()"
   ]
  },
  {
   "cell_type": "code",
   "execution_count": 3,
   "metadata": {},
   "outputs": [],
   "source": [
    "z_SVRG, time_SVRG, psnr_SVRG, zs_SVRG = pnp_svrg(res, 'nlm', denoise_parameters, 0.095, 10, 10, 10000, False)"
   ]
  },
  {
   "cell_type": "code",
   "execution_count": 4,
   "metadata": {},
   "outputs": [],
   "source": [
    "z_GD, time_GD, psnr_GD, zs_GD = pnp_gd(res, 'nlm', denoise_parameters, 0.8, 100, False)"
   ]
  },
  {
   "cell_type": "code",
   "execution_count": 5,
   "metadata": {},
   "outputs": [],
   "source": [
    "z_SGD, time_SGD, psnr_SGD, zs_SGD = pnp_sgd(res, 'nlm', denoise_parameters, 0.8, 100, 10000, False)"
   ]
  },
  {
   "cell_type": "code",
   "execution_count": 6,
   "metadata": {},
   "outputs": [],
   "source": [
    "z_LSVRG, time_LSVRG, psnr_LSVRG, zs_LSVRG = pnp_lsvrg(res, 'nlm', denoise_parameters, 0.095, 10, 10000, 0.1, False)"
   ]
  },
  {
   "cell_type": "code",
   "execution_count": 7,
   "metadata": {},
   "outputs": [
    {
     "ename": "AttributeError",
     "evalue": "'numpy.ndarray' object has no attribute 'cpu'",
     "output_type": "error",
     "traceback": [
      "\u001b[1;31m---------------------------------------------------------------------------\u001b[0m",
      "\u001b[1;31mAttributeError\u001b[0m                            Traceback (most recent call last)",
      "\u001b[1;32m<ipython-input-7-02b481fb6ca1>\u001b[0m in \u001b[0;36m<module>\u001b[1;34m\u001b[0m\n\u001b[1;32m----> 1\u001b[1;33m \u001b[0mshow_multiple\u001b[0m\u001b[1;33m(\u001b[0m\u001b[1;33m[\u001b[0m\u001b[0mres\u001b[0m\u001b[1;33m[\u001b[0m\u001b[1;34m'original'\u001b[0m\u001b[1;33m]\u001b[0m\u001b[1;33m,\u001b[0m \u001b[0mres\u001b[0m\u001b[1;33m[\u001b[0m\u001b[1;34m'noisy'\u001b[0m\u001b[1;33m]\u001b[0m\u001b[1;33m,\u001b[0m \u001b[0mz_SVRG\u001b[0m\u001b[1;33m]\u001b[0m\u001b[1;33m)\u001b[0m\u001b[1;33m\u001b[0m\u001b[1;33m\u001b[0m\u001b[0m\n\u001b[0m",
      "\u001b[1;32m~\\Documents\\GitHub\\pnp-svrg\\utils.py\u001b[0m in \u001b[0;36mshow_multiple\u001b[1;34m(images, ax)\u001b[0m\n\u001b[0;32m      6\u001b[0m \u001b[1;33m\u001b[0m\u001b[0m\n\u001b[0;32m      7\u001b[0m     \u001b[1;32mfor\u001b[0m \u001b[0mi\u001b[0m\u001b[1;33m,\u001b[0m \u001b[0mimage\u001b[0m \u001b[1;32min\u001b[0m \u001b[0menumerate\u001b[0m\u001b[1;33m(\u001b[0m\u001b[0mimages\u001b[0m\u001b[1;33m)\u001b[0m\u001b[1;33m:\u001b[0m\u001b[1;33m\u001b[0m\u001b[1;33m\u001b[0m\u001b[0m\n\u001b[1;32m----> 8\u001b[1;33m         \u001b[0mimage\u001b[0m \u001b[1;33m=\u001b[0m \u001b[0mimage\u001b[0m\u001b[1;33m.\u001b[0m\u001b[0mcpu\u001b[0m\u001b[1;33m(\u001b[0m\u001b[1;33m)\u001b[0m\u001b[1;33m.\u001b[0m\u001b[0mdetach\u001b[0m\u001b[1;33m(\u001b[0m\u001b[1;33m)\u001b[0m\u001b[1;33m.\u001b[0m\u001b[0mnumpy\u001b[0m\u001b[1;33m(\u001b[0m\u001b[1;33m)\u001b[0m\u001b[1;33m\u001b[0m\u001b[1;33m\u001b[0m\u001b[0m\n\u001b[0m\u001b[0;32m      9\u001b[0m         \u001b[0mimage\u001b[0m \u001b[1;33m=\u001b[0m \u001b[1;33m(\u001b[0m\u001b[0mimage\u001b[0m \u001b[1;33m-\u001b[0m \u001b[0mimage\u001b[0m\u001b[1;33m.\u001b[0m\u001b[0mmin\u001b[0m\u001b[1;33m(\u001b[0m\u001b[1;33m)\u001b[0m\u001b[1;33m)\u001b[0m\u001b[1;33m/\u001b[0m\u001b[1;33m(\u001b[0m\u001b[0mimage\u001b[0m\u001b[1;33m.\u001b[0m\u001b[0mmax\u001b[0m\u001b[1;33m(\u001b[0m\u001b[1;33m)\u001b[0m \u001b[1;33m-\u001b[0m \u001b[0mimage\u001b[0m\u001b[1;33m.\u001b[0m\u001b[0mmin\u001b[0m\u001b[1;33m(\u001b[0m\u001b[1;33m)\u001b[0m\u001b[1;33m)\u001b[0m\u001b[1;33m\u001b[0m\u001b[1;33m\u001b[0m\u001b[0m\n\u001b[0;32m     10\u001b[0m         \u001b[0mh\u001b[0m \u001b[1;33m=\u001b[0m \u001b[0maxes\u001b[0m\u001b[1;33m[\u001b[0m\u001b[0mi\u001b[0m\u001b[1;33m]\u001b[0m\u001b[1;33m.\u001b[0m\u001b[0mimshow\u001b[0m\u001b[1;33m(\u001b[0m\u001b[0mimage\u001b[0m\u001b[1;33m.\u001b[0m\u001b[0msqueeze\u001b[0m\u001b[1;33m(\u001b[0m\u001b[1;33m)\u001b[0m\u001b[1;33m,\u001b[0m \u001b[0mcmap\u001b[0m\u001b[1;33m=\u001b[0m\u001b[1;34m'gray'\u001b[0m\u001b[1;33m)\u001b[0m\u001b[1;33m\u001b[0m\u001b[1;33m\u001b[0m\u001b[0m\n",
      "\u001b[1;31mAttributeError\u001b[0m: 'numpy.ndarray' object has no attribute 'cpu'"
     ]
    },
    {
     "data": {
      "image/png": "[encoded data removed]",
      "text/plain": [
       "<Figure size 504x216 with 3 Axes>"
      ]
     },
     "metadata": {
      "needs_background": "light"
     },
     "output_type": "display_data"
    }
   ],
   "source": [
    "show_multiple([res['original'], res['noisy'], z_SVRG])"
   ]
  },
  {
   "cell_type": "markdown",
   "metadata": {},
   "source": [
    "## Figure 3: Compare Image Denoising Routines with PnP-SVRG"
   ]
  },
  {
   "cell_type": "code",
   "execution_count": null,
   "metadata": {},
   "outputs": [],
   "source": [
    "MASK = generate_mask()\n",
    "res = create_problem(img_path='./data/Set12/13.jpg', sigma=1.0, mask_=MASK)\n",
    "denoise_parameters = nlm_config()"
   ]
  },
  {
   "cell_type": "code",
   "execution_count": null,
   "metadata": {},
   "outputs": [],
   "source": [
    "z_SVRG, time_SVRG, psnr_SVRG, zs_SVRG = pnp_svrg(res, 'nlm', denoise_parameters, 0.095, 10, 10, 10000, False)"
   ]
  },
  {
   "cell_type": "code",
   "execution_count": null,
   "metadata": {},
   "outputs": [],
   "source": [
    "z_SVRG, time_SVRG, psnr_SVRG, zs_SVRG = pnp_svrg(res, 'cnn', denoise_parameters, 0.095, 10, 10, 10000, False)"
   ]
  },
  {
   "cell_type": "code",
   "execution_count": null,
   "metadata": {},
   "outputs": [],
   "source": [
    "z_SVRG, time_SVRG, psnr_SVRG, zs_SVRG = pnp_svrg(res, 'bm3d', denoise_parameters, 0.095, 10, 10, 10000, False)"
   ]
  },
  {
   "cell_type": "code",
   "execution_count": null,
   "metadata": {},
   "outputs": [],
   "source": [
    "z_SVRG, time_SVRG, psnr_SVRG, zs_SVRG = pnp_svrg(res, 'tv', denoise_parameters, 0.095, 10, 10, 10000, False)"
   ]
  },
  {
   "cell_type": "code",
   "execution_count": null,
   "metadata": {},
   "outputs": [],
   "source": [
    "show_multiple(res['original'])"
   ]
  },
  {
   "cell_type": "markdown",
   "metadata": {},
   "source": [
    "## Figure 4: Compare Sampling Ratio for each PnP Algorithm"
   ]
  },
  {
   "cell_type": "code",
   "execution_count": null,
   "metadata": {},
   "outputs": [],
   "source": [
    "num_probs = 100\n",
    "num_trials = 10\n",
    "sample_probs = np.linspace(0.2, 1, num_probs)\n",
    "\n",
    "prob_vs_psnr_SVRG = []\n",
    "prob_vs_psnr_GD = []\n",
    "prob_vs_psnr_SGD = []\n",
    "prob_vs_psnr_LSVRG = []\n",
    "\n",
    "for i in range(num_probs):\n",
    "    samp_ratio_SVRG = []\n",
    "    samp_ratio_GD = []\n",
    "    samp_ratio_SGD = []\n",
    "    samp_ratio_LSVRG = []\n",
    "    for j in range(num_trials):\n",
    "        MASK = generate_mask(height=256, width=256, sample_prob=sample_probs[i])\n",
    "        res = create_problem(img_path='./data/Set12/13.jpg', sigma=1.0, mask_=MASK)\n",
    "        denoise_parameters = nlm_config()\n",
    "\n",
    "        z_SVRG, time_SVRG, psnr_SVRG, zs_SVRG = pnp_svrg(res, 'nlm', denoise_parameters, 0.095, 10, 10, 10000, False)\n",
    "        samp_ratio_SVRG.append(psnr_SVRG[-1])\n",
    "\n",
    "        z_GD, time_GD, psnr_GD, zs_GD = pnp_gd(res, 'nlm', denoise_parameters, 0.8, 100, False)\n",
    "        samp_ratio_GD.append(psnr_GD[-1])\n",
    "\n",
    "        z_SGD, time_SGD, psnr_SGD, zs_SGD = pnp_sgd(res, 'nlm', denoise_parameters, 0.8, 100, 10000, False)\n",
    "        samp_ratio_SGD.append(psnr_SGD[-1])\n",
    "\n",
    "        z_LSVRG, time_LSVRG, psnr_LSVRG, zs_LSVRG = pnp_lsvrg(res, 'nlm', denoise_parameters, 0.095, 10, 10000, 0.1, False)\n",
    "        samp_ratio_LSVRG.append(psnr_LSVRG[-1])\n",
    "    prob_vs_psnr_SVRG.append(np.average(samp_ratio_SVRG))\n",
    "    prob_vs_psnr_GD.append(np.average(samp_ratio_GD))\n",
    "    prob_vs_psnr_SGD.append(np.average(samp_ratio_SGD))\n",
    "    prob_vs_psnr_LSVRG.append(np.average(samp_ratio_LSVRG))\n",
    "# PLOT CURVES"
   ]
  },
  {
   "cell_type": "code",
   "execution_count": null,
   "metadata": {},
   "outputs": [],
   "source": []
  }
 ],
 "metadata": {
  "kernelspec": {
   "display_name": "Python 3",
   "language": "python",
   "name": "python3"
  },
  "language_info": {
   "codemirror_mode": {
    "name": "ipython",
    "version": 3
   },
   "file_extension": ".py",
   "mimetype": "text/x-python",
   "name": "python",
   "nbconvert_exporter": "python",
   "pygments_lexer": "ipython3",
   "version": "3.8.3"
  }
 },
 "nbformat": 4,
 "nbformat_minor": 4
}
