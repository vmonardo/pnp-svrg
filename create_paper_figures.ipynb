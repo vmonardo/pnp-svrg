{
 "cells": [
  {
   "cell_type": "markdown",
   "metadata": {},
   "source": [
    "## Create the figures used in Stochastic Variance Reduced Gradient Plug-and-Play Methods for Solving Image Reconnstruction Problems"
   ]
  },
  {
   "cell_type": "code",
   "execution_count": 1,
   "metadata": {},
   "outputs": [
    {
     "name": "stdout",
     "output_type": "stream",
     "text": [
      "Microsoft Visual C++ Redistributable is not installed, this may lead to the DLL load failure.\n",
      "                 It can be downloaded at https://aka.ms/vs/16/release/vc_redist.x64.exe\n",
      "cuda\n"
     ]
    }
   ],
   "source": [
    "%matplotlib notebook\n",
    "\n",
    "from imports import *\n",
    "\n",
    "print('cuda' if torch.cuda.is_available() else 'cpu')"
   ]
  },
  {
   "cell_type": "markdown",
   "metadata": {},
   "source": [
    "# Figures 1 + 2: Compare Image Fidelity for Different Algorithms and Compare PSNR over time using NLM"
   ]
  },
  {
   "cell_type": "code",
   "execution_count": null,
   "metadata": {},
   "outputs": [],
   "source": [
    "res = create_problem()"
   ]
  },
  {
   "cell_type": "code",
   "execution_count": null,
   "metadata": {
    "scrolled": true
   },
   "outputs": [],
   "source": [
    "z_SVRG, time_SVRG, psnr_SVRG, zs_SVRG = pnp_svrg(res, 'nlm', 2000, 30, 20, 1000, True)"
   ]
  },
  {
   "cell_type": "code",
   "execution_count": null,
   "metadata": {
    "scrolled": true
   },
   "outputs": [],
   "source": [
    "z_GD, time_GD, psnr_GD, zs_GD = pnp_gd(res, 'nlm', 2000, 600, True)"
   ]
  },
  {
   "cell_type": "code",
   "execution_count": null,
   "metadata": {},
   "outputs": [],
   "source": [
    "z_SGD, time_SGD, psnr_SGD, zs_SGD = pnp_sgd(res, 'nlm', 2000, 600, 10000, True)"
   ]
  },
  {
   "cell_type": "code",
   "execution_count": null,
   "metadata": {},
   "outputs": [],
   "source": [
    "z_LSVRG, time_LSVRG, psnr_LSVRG, zs_LSVRG = pnp_lsvrg(res, 'nlm', 800, 600, 10000, 0.05, True)"
   ]
  },
  {
   "cell_type": "code",
   "execution_count": null,
   "metadata": {},
   "outputs": [],
   "source": [
    "show_grid([torch.Tensor(res['original']), torch.Tensor(res['noisy']), \n",
    "           torch.Tensor(z_SVRG), torch.Tensor(z_GD), torch.Tensor(z_SGD), torch.Tensor(z_LSVRG)], figsize=(8,8))\n",
    "plt.savefig(\"test.png\",bbox_inches='tight')"
   ]
  },
  {
   "cell_type": "code",
   "execution_count": null,
   "metadata": {},
   "outputs": [],
   "source": [
    "# Figure to display iteration count/ clock time vs PSNR for all algorithms\n",
    "psnr_fig = plt.figure()\n",
    "psnr_ax = psnr_fig.add_subplot(1, 1, 1)\n",
    "\n",
    "psnr_ax.plot(np.cumsum(time_SVRG), psnr_SVRG)\n",
    "psnr_ax.plot(np.cumsum(time_GD), psnr_GD)\n",
    "psnr_ax.plot(np.cumsum(time_SGD), psnr_SGD)\n",
    "psnr_ax.plot(np.cumsum(time_LSVRG), psnr_LSVRG)\n",
    "\n",
    "psnr_ax.set(xlabel='time (s)', ylabel='PSNR (dB)')\n",
    "psnr_ax.legend(('PnP-SVRG', 'PnP-GD', 'PnP-SGD', 'PnP-LSVRG'), loc='lower right')\n",
    "psnr_ax.grid()\n",
    "\n",
    "psnr_fig.tight_layout()\n",
    "\n",
    "plt.show()"
   ]
  },
  {
   "cell_type": "markdown",
   "metadata": {},
   "source": [
    "## Figure 3: Compare Image Denoising Routines with PnP-SVRG"
   ]
  },
  {
   "cell_type": "code",
   "execution_count": 2,
   "metadata": {},
   "outputs": [],
   "source": [
    "res = create_problem()"
   ]
  },
  {
   "cell_type": "code",
   "execution_count": null,
   "metadata": {},
   "outputs": [],
   "source": [
    "z_SVRG_nlm, time_SVRG_nlm, psnr_SVRG_nlm, zs_SVRG_nlm = pnp_svrg(res, 'nlm', 2000, 30, 20, 1000, True)"
   ]
  },
  {
   "cell_type": "code",
   "execution_count": null,
   "metadata": {},
   "outputs": [],
   "source": [
    "z_SVRG_tv, time_SVRG_tv, psnr_SVRG_tv, zs_SVRG_tv = pnp_svrg(res, 'tv', 2000, 30, 20, 1000, True)"
   ]
  },
  {
   "cell_type": "code",
   "execution_count": null,
   "metadata": {},
   "outputs": [],
   "source": [
    "z_SVRG_bm3d, time_SVRG_bm3d, psnr_SVRG_bm3d, zs_SVRG_bm3d = pnp_svrg(res, 'bm3d', 2000, 30, 20, 1000, True)"
   ]
  },
  {
   "cell_type": "code",
   "execution_count": null,
   "metadata": {},
   "outputs": [],
   "source": [
    "z_SVRG_cnn, time_SVRG_cnn, psnr_SVRG_cnn, zs_SVRG_cnn = pnp_svrg(res, 'cnn', 1000, 30, 20, 1000, True)"
   ]
  },
  {
   "cell_type": "code",
   "execution_count": null,
   "metadata": {},
   "outputs": [],
   "source": [
    "show_grid([torch.Tensor(res['original']), torch.Tensor(res['noisy']), \n",
    "           torch.Tensor(z_SVRG), torch.Tensor(z_GD), torch.Tensor(z_SGD), torch.Tensor(z_LSVRG)], figsize=(8,8))"
   ]
  },
  {
   "cell_type": "markdown",
   "metadata": {},
   "source": [
    "## Figure 4: Compare Sampling Ratio for each PnP Algorithm"
   ]
  },
  {
   "cell_type": "code",
   "execution_count": null,
   "metadata": {},
   "outputs": [],
   "source": [
    "num_probs = 100\n",
    "num_trials = 10\n",
    "sample_probs = np.linspace(0.2, 1, num_probs)\n",
    "\n",
    "prob_vs_psnr_SVRG = []\n",
    "prob_vs_psnr_GD = []\n",
    "prob_vs_psnr_SGD = []\n",
    "prob_vs_psnr_LSVRG = []\n",
    "\n",
    "for i in range(num_probs):\n",
    "    samp_ratio_SVRG = []\n",
    "    samp_ratio_GD = []\n",
    "    samp_ratio_SGD = []\n",
    "    samp_ratio_LSVRG = []\n",
    "    for j in range(num_trials):\n",
    "        MASK = generate_mask(height=256, width=256, sample_prob=sample_probs[i])\n",
    "        res = create_problem(img_path='./data/Set12/13.jpg', sigma=1.0, mask_=MASK)\n",
    "        denoise_parameters = nlm_config()\n",
    "\n",
    "        z_SVRG, time_SVRG, psnr_SVRG, zs_SVRG = pnp_svrg(res, 'nlm', denoise_parameters, 0.095, 10, 10, 10000, False)\n",
    "        samp_ratio_SVRG.append(psnr_SVRG[-1])\n",
    "\n",
    "        z_GD, time_GD, psnr_GD, zs_GD = pnp_gd(res, 'nlm', denoise_parameters, 0.8, 100, False)\n",
    "        samp_ratio_GD.append(psnr_GD[-1])\n",
    "\n",
    "        z_SGD, time_SGD, psnr_SGD, zs_SGD = pnp_sgd(res, 'nlm', denoise_parameters, 0.8, 100, 10000, False)\n",
    "        samp_ratio_SGD.append(psnr_SGD[-1])\n",
    "\n",
    "        z_LSVRG, time_LSVRG, psnr_LSVRG, zs_LSVRG = pnp_lsvrg(res, 'nlm', denoise_parameters, 0.095, 10, 10000, 0.1, False)\n",
    "        samp_ratio_LSVRG.append(psnr_LSVRG[-1])\n",
    "    prob_vs_psnr_SVRG.append(np.average(samp_ratio_SVRG))\n",
    "    prob_vs_psnr_GD.append(np.average(samp_ratio_GD))\n",
    "    prob_vs_psnr_SGD.append(np.average(samp_ratio_SGD))\n",
    "    prob_vs_psnr_LSVRG.append(np.average(samp_ratio_LSVRG))\n",
    "# PLOT CURVES"
   ]
  },
  {
   "cell_type": "code",
   "execution_count": null,
   "metadata": {},
   "outputs": [],
   "source": []
  }
 ],
 "metadata": {
  "kernelspec": {
   "display_name": "Python 3",
   "language": "python",
   "name": "python3"
  },
  "language_info": {
   "codemirror_mode": {
    "name": "ipython",
    "version": 3
   },
   "file_extension": ".py",
   "mimetype": "text/x-python",
   "name": "python",
   "nbconvert_exporter": "python",
   "pygments_lexer": "ipython3",
   "version": "3.8.3"
  }
 },
 "nbformat": 4,
 "nbformat_minor": 4
}
