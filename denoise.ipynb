{
 "cells": [
  {
   "cell_type": "code",
   "execution_count": null,
   "metadata": {},
   "outputs": [],
   "source": [
    "%matplotlib inline \n",
    "\n",
    "from imports import *\n",
    "\n",
    "print('cuda' if torch.cuda.is_available() else 'cpu')"
   ]
  },
  {
   "cell_type": "markdown",
   "metadata": {},
   "source": [
    "# Code to Solve the Compressed-Sensing Magnetic Resonance Imaging (CS-MRI) Reconstruction Problem\n",
    "\n",
    "## Problem formulation\n",
    "\n",
    "$\\boldsymbol{y} = \\boldsymbol{M} \\odot (\\boldsymbol{F} \\boldsymbol{X} \\boldsymbol{F} + \\boldsymbol{\\varepsilon}) , \\hspace{2ex} \\boldsymbol{\\varepsilon} \\sim \\mathcal{N} (0, \\sigma^2 \\boldsymbol{I}), \\hspace{2ex} \\sigma \\geq 0.$\n",
    "\n",
    "- $\\boldsymbol{X} \\in \\mathbb{R}^{n \\times n}$: unknown image to recover \n",
    "- $\\boldsymbol{F} \\in \\mathbb{C}^{n \\times n}$: DFT matrix (https://en.wikipedia.org/wiki/DFT_matrix) \n",
    "- $\\boldsymbol{M} \\in \\{0 ,1\\}^{n \\times n}$: 0-1 mask that denotes which Fourier coefficients are observed \n",
    "- $\\boldsymbol{\\varepsilon} \\in \\mathbb{R}^{m}$: noise\n",
    "- $ \\sigma \\in \\mathbb{R}^+$: noise level \n",
    "- $ \\boldsymbol{y} \\in \\mathbb{C}^{m}$: observed measurements (Fourier coefficients) \n",
    "- $ \\odot : \\mathbb{C}^{n_1 \\times n_2} \\times \\mathbb{C}^{n_1 \\times n_2} \\mapsto \\mathbb{C}^{n_1 \\times n_2}$: denotes the Kronecker product (https://en.wikipedia.org/wiki/Kronecker_product)\n",
    "\n",
    "\n",
    "## Loss function, gradients\n",
    "\n",
    "### Loss function:\n",
    "\n",
    "$\\ell ({\\boldsymbol{X}}) = \\frac{1}{2m} \\| \\boldsymbol{M} \\odot (\\boldsymbol{y} - \\boldsymbol{F} \\boldsymbol{X} \\boldsymbol{F}) \\|_2^2$\n",
    "\n",
    "### Loss function as a finite sum:\n",
    "\n",
    "$\\ell (\\boldsymbol{X}) := \\frac{1}{m} \\sum_{\\{ i, j | y_{i, j} \\not= 0 \\}} \\ell_{i,j}(\\boldsymbol{X}) = \\frac{1}{m}\\sum_{\\{ i, j | y_{i, j} \\not= 0 \\}} \\frac{1}{2}(y_i - \\boldsymbol{f}_i^\\top \\boldsymbol{X} \\boldsymbol{f}_j)^2$\n",
    "\n",
    "- $\\boldsymbol{f}_i \\in \\mathbb{C}^m$: the $i^{\\text{th}}$ column of the DFT matrix $\\boldsymbol{F}$.\n",
    "\n",
    "\n",
    "### Full gradient:\n",
    "\n",
    "$\\nabla \\ell ({\\boldsymbol{X}}) = \\frac{1}{m}\\boldsymbol{F}^\\dagger \\boldsymbol{M} \\odot(\\boldsymbol{y} - \\boldsymbol{F} \\boldsymbol{X} \\boldsymbol{F} ) \\boldsymbol{F}^\\dagger$\n",
    "\n",
    "### Stochastic gradient:\n",
    "\n",
    "$\\nabla \\ell_{i,j}({\\boldsymbol{X}}) = (y_i - \\boldsymbol{f}_j^\\dagger \\boldsymbol{X}^\\dagger \\boldsymbol{f}_i^\\ast) \\boldsymbol{f}_j^\\dagger\\boldsymbol{f}^\\ast $\n",
    "\n",
    "- $\\dagger : \\mathbb{C}^{n_1 \\times n_2} \\mapsto \\mathbb{C}^{n_2 \\times n_1} $: Hermitian transpose\n",
    "- $\\ast : \\mathbb{C}^{n_1 \\times n_2} \\mapsto \\mathbb{C}^{n_1 \\times n_2} $: Complex conjugate"
   ]
  },
  {
   "cell_type": "code",
   "execution_count": null,
   "metadata": {},
   "outputs": [],
   "source": [
    "network_type = 'DnCNN'\n",
    "denoiser = Denoiser(net=eval(network_type)(17), \n",
    "                    experiment_name='exp1_flickr30k_' + network_type, \n",
    "                    data=False, sigma=30, batch_size=10)"
   ]
  },
  {
   "cell_type": "code",
   "execution_count": null,
   "metadata": {
    "scrolled": true
   },
   "outputs": [],
   "source": [
    "original = process_img('./data/Set12/13.jpg')['original']\n",
    "noisy = process_img('./data/Set12/13.jpg')['noisy']\n",
    "\n",
    "psnr_display('./data/Set12/13.jpg', original, \"Original\")"
   ]
  },
  {
   "cell_type": "code",
   "execution_count": null,
   "metadata": {},
   "outputs": [],
   "source": [
    "psnr_display('./data/Set12/13.jpg', noisy, \"Original\")"
   ]
  },
  {
   "cell_type": "code",
   "execution_count": null,
   "metadata": {
    "scrolled": true
   },
   "outputs": [],
   "source": [
    "T1 = list(np.arange(0, 45, 5)[1:])\n",
    "T2 = list(np.arange(0, 45, 5)[1:])\n",
    "eta = list(np.arange(0.01, 0.1, 0.01))\n",
    "# batch = list(range(10, 500, 100))\n",
    "iters = list(product(T1, T2, eta))\n",
    "\n",
    "\n",
    "'''\n",
    "during cross-validation, only consider testing when T1 >= T2\n",
    "'''\n",
    "# pruned = []\n",
    "\n",
    "# for each in iters:\n",
    "#     if each[0] >= each[1]:\n",
    "#         pruned.append(each)"
   ]
  },
  {
   "cell_type": "code",
   "execution_count": null,
   "metadata": {},
   "outputs": [],
   "source": [
    "def f(iters):\n",
    "    return peak_signal_noise_ratio(original, svrg(img_path='./data/Set12/13.jpg', \n",
    "                                                  denoiser=denoiser.net.cpu(),\n",
    "                                                  eta=iters[2], T1=iters[0], T2=iters[1], \n",
    "                                                  batch_size=200)[0])\n",
    "\n",
    "with MP.Pool(processes=5) as pool:\n",
    "    results = list(tqdm.tqdm(pool.imap(f, pruned), total=len(pruned)))"
   ]
  },
  {
   "cell_type": "code",
   "execution_count": null,
   "metadata": {},
   "outputs": [],
   "source": [
    "max(results), pruned[results.index(max(results))]"
   ]
  },
  {
   "cell_type": "code",
   "execution_count": null,
   "metadata": {
    "scrolled": true
   },
   "outputs": [],
   "source": [
    "svrg_out, svrg_time, svrg_psnr, zs = svrg(img_path='./data/Set12/13.jpg', \n",
    "                                          denoiser='nlm', \n",
    "                                          eta=0.08, T1=20, T2=10, batch_size=200)\n",
    "psnr_display('./data/Set12/13.jpg', svrg_out, \"SVRG\")"
   ]
  },
  {
   "cell_type": "code",
   "execution_count": null,
   "metadata": {
    "scrolled": true
   },
   "outputs": [],
   "source": [
    "svrg_out, svrg_time, svrg_psnr, zs = svrg(img_path='./data/Set12/13.jpg', \n",
    "                                       denoiser=denoiser.net, \n",
    "                                       eta=500, T1=1, T2=5000, batch_size=200)\n",
    "psnr_display('./data/Set12/13.jpg', svrg_out, \"SVRG\")"
   ]
  },
  {
   "cell_type": "code",
   "execution_count": null,
   "metadata": {
    "scrolled": true
   },
   "outputs": [],
   "source": [
    "gif(zs)"
   ]
  },
  {
   "cell_type": "code",
   "execution_count": null,
   "metadata": {},
   "outputs": [],
   "source": []
  },
  {
   "cell_type": "code",
   "execution_count": null,
   "metadata": {
    "scrolled": false
   },
   "outputs": [],
   "source": []
  },
  {
   "cell_type": "code",
   "execution_count": null,
   "metadata": {},
   "outputs": [],
   "source": []
  }
 ],
 "metadata": {
  "kernelspec": {
   "display_name": "Python 3",
   "language": "python",
   "name": "python3"
  },
  "language_info": {
   "codemirror_mode": {
    "name": "ipython",
    "version": 3
   },
   "file_extension": ".py",
   "mimetype": "text/x-python",
   "name": "python",
   "nbconvert_exporter": "python",
   "pygments_lexer": "ipython3",
   "version": "3.8.5"
  }
 },
 "nbformat": 4,
 "nbformat_minor": 4
}
